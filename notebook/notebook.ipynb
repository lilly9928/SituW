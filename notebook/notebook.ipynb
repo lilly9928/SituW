{
 "cells": [
  {
   "cell_type": "code",
   "execution_count": 38,
   "id": "5f256cbe",
   "metadata": {},
   "outputs": [],
   "source": [
    "import json\n",
    "\n",
    "with open('/data3/KJE/code/WIL_DeepLearningProject_2/NS_Parser/SITUM_EMNLP/outputs/Ours_GPT4o-mini_extract_logiqa_test_gpt-3.5-turbo_Direct.json', 'r') as f :\n",
    "    data = json.load(f) \n",
    "\n",
    "with open('/data3/KJE/code/WIL_DeepLearningProject_2/NS_Parser/SITUM_EMNLP/outputs/Ours_CoT_logiqa_test_gpt-3.5-turbo_missing.json', 'r') as f :\n",
    "    data2 = json.load(f) "
   ]
  },
  {
   "cell_type": "code",
   "execution_count": 39,
   "id": "8295fa8f",
   "metadata": {},
   "outputs": [
    {
     "data": {
      "text/plain": [
       "(3239, 10)"
      ]
     },
     "execution_count": 39,
     "metadata": {},
     "output_type": "execute_result"
    }
   ],
   "source": [
    "len(data), len(data2)"
   ]
  },
  {
   "cell_type": "code",
   "execution_count": 3,
   "id": "2aa7ca97",
   "metadata": {},
   "outputs": [
    {
     "data": {
      "text/plain": [
       "dict_keys(['id', 'questtion', 'original_context', 'reading', 'reasoning', 'predicted_answer', 'answer', 'predicted_choice', 'time_cost'])"
      ]
     },
     "execution_count": 3,
     "metadata": {},
     "output_type": "execute_result"
    }
   ],
   "source": [
    "data[0].keys()"
   ]
  },
  {
   "cell_type": "code",
   "execution_count": 21,
   "id": "23ea13c9",
   "metadata": {},
   "outputs": [
    {
     "name": "stdout",
     "output_type": "stream",
     "text": [
      "Many people who call themselves teachers are not actually teachers, because teaching is not their main source of income.\n",
      "The conclusion that low income prevents teachers from being dedicated to their work is assumed by the above discussion.\n",
      "not-entailment\n",
      "Let's analyze the given problem step by step.\n",
      "\n",
      "1. **Many people who call themselves teachers are not actually teachers.**\n",
      "   - Time: ['none']\n",
      "   - Space: ['none']\n",
      "   - Causality: ['many people call themselves teachers', 'are not actually teachers']\n",
      "   - Intention: ['none']\n",
      "   - Protagonist: ['many people', 'teachers']\n",
      "\n",
      "2. **Because teaching is not their main source of income.**\n",
      "   - Time: ['none']\n",
      "   - Space: ['none']\n",
      "   - Causality: ['teaching is not their main source of income', 'many people who call themselves teachers are not actually teachers']\n",
      "   - Intention: ['to explain why many people who call themselves teachers are not actually teachers']\n",
      "   - Protagonist: ['teaching', 'many people']\n",
      "\n",
      "Combining these, we have:\n",
      "\n",
      "1. Many people who call themselves teachers are not actually teachers.\n",
      "   - {time: ['none'], space: ['none'], causality: ['many people call themselves teachers', 'are not actually teachers'], intention: ['none'], protagonist: ['many people', 'teachers']}\n",
      "\n",
      "2. Because teaching is not their main source of income.\n",
      "   - {time: ['none'], space: ['none'], causality: ['teaching is not their main source of income', 'many people who call themselves teachers are not actually teachers'], intention: ['to explain why many people who call themselves teachers are not actually teachers'], protagonist: ['teaching', 'many people']}\n",
      "====\n",
      "The context discusses that many people who call themselves teachers are not actually teachers because teaching is not their main source of income. The hypothesis suggests that low income prevents teachers from being dedicated to their work. \n",
      "\n",
      "However, the context does not explicitly state that low income leads to a lack of dedication. It only indicates that many who identify as teachers do not rely on teaching as their primary income source. This does not necessarily imply that low income prevents dedication; it could be that they are dedicated in other ways or that their lack of income is not the sole reason for their status.\n",
      "\n",
      "Thus, the conclusion in the hypothesis is not directly supported by the context provided.\n",
      "\n",
      "**Final Answer: B**\n"
     ]
    }
   ],
   "source": [
    "print(data[2]['original_context'])\n",
    "print(data[2]['questtion'])\n",
    "print(data[2]['answer'])\n",
    "print(data[2]['reading'])\n",
    "print(\"====\")\n",
    "print(data[2]['reasoning'])\n"
   ]
  },
  {
   "cell_type": "code",
   "execution_count": 42,
   "id": "3cb99ac0",
   "metadata": {},
   "outputs": [
    {
     "name": "stdout",
     "output_type": "stream",
     "text": [
      "0.5480086446434085\n"
     ]
    }
   ],
   "source": [
    "correct = 0\n",
    "\n",
    "fail_case =[]\n",
    "for d in data:\n",
    "    if d['answer'] == 'entailment':\n",
    "        gt = 'true'\n",
    "    else:\n",
    "        gt = 'false'\n",
    "\n",
    "    if gt in d['predicted_answer'].lower():\n",
    "        correct += 1 \n",
    "    else:\n",
    "        fail_case.append(d)\n",
    "\n",
    "# for d in data2:\n",
    "#     if d['answer'] == 'entailment':\n",
    "#         gt = 'a'\n",
    "#     else:\n",
    "#         gt = 'b'\n",
    "\n",
    "#     if gt in d['predicted_answer'].lower():\n",
    "#         correct += 1 \n",
    "#     else:\n",
    "#         fail_case.append(d)\n",
    "\n",
    "# print(correct/(len(data)+len(data2)))\n",
    "# # print(correct/(len(data)))\n",
    "# print(correct)\n",
    "print(correct/len(data))\n"
   ]
  },
  {
   "cell_type": "code",
   "execution_count": 230,
   "id": "d6c5002e",
   "metadata": {},
   "outputs": [
    {
     "data": {
      "text/plain": [
       "1351"
      ]
     },
     "execution_count": 230,
     "metadata": {},
     "output_type": "execute_result"
    }
   ],
   "source": [
    "len(fail_case)"
   ]
  },
  {
   "cell_type": "code",
   "execution_count": 4,
   "id": "14b13378",
   "metadata": {},
   "outputs": [
    {
     "name": "stdout",
     "output_type": "stream",
     "text": [
      "0.6481366459627329\n"
     ]
    }
   ],
   "source": [
    "correct = 0\n",
    "\n",
    "fail_case =[]\n",
    "for d in data:\n",
    "    if d['answer'] == 'entailment':\n",
    "        gt = 'a'\n",
    "    else:\n",
    "        gt = 'b'\n",
    "\n",
    "    if gt in d['predicted_answer'].lower():\n",
    "        correct += 1 \n",
    "    else:\n",
    "        fail_case.append(d)\n",
    "\n",
    "print(correct/(len(data)))"
   ]
  },
  {
   "cell_type": "code",
   "execution_count": 13,
   "id": "d45f901d",
   "metadata": {},
   "outputs": [
    {
     "data": {
      "text/plain": [
       "204"
      ]
     },
     "execution_count": 13,
     "metadata": {},
     "output_type": "execute_result"
    }
   ],
   "source": [
    "import json \n",
    "with open('/data3/KJE/code/WIL_DeepLearningProject_2/NS_Parser/data/FOLIO/dev.json', 'r') as f :\n",
    "    folio = json.load(f)\n",
    "\n",
    "len(folio)"
   ]
  },
  {
   "cell_type": "code",
   "execution_count": 34,
   "id": "50dbc747",
   "metadata": {},
   "outputs": [
    {
     "data": {
      "text/plain": [
       "600"
      ]
     },
     "execution_count": 34,
     "metadata": {},
     "output_type": "execute_result"
    }
   ],
   "source": [
    "import json \n",
    "with open('/data3/KJE/code/WIL_DeepLearningProject_2/NS_Parser/data/ProofWriter/ours_dev.json', 'r') as f :\n",
    "    ours = json.load(f)\n",
    "\n",
    "len(ours)"
   ]
  },
  {
   "cell_type": "code",
   "execution_count": 35,
   "id": "d21167e5",
   "metadata": {},
   "outputs": [
    {
     "data": {
      "text/plain": [
       "'Bob is cold. Bob is quiet. Bob is red. Bob is smart. Charlie is kind. Charlie is quiet. Charlie is red. Charlie is rough. Dave is cold. Dave is kind. Dave is smart. Fiona is quiet. If something is quiet and cold then it is smart. Red, cold things are round. If something is kind and rough then it is red. All quiet things are rough. Cold, smart things are red. If something is rough then it is cold. All red things are rough. If Dave is smart and Dave is kind then Dave is quiet.protagonist is fiona\\nprotagonist is dave\\nprotagonist is bob\\nprotagonist is charlie'"
      ]
     },
     "execution_count": 35,
     "metadata": {},
     "output_type": "execute_result"
    }
   ],
   "source": [
    "ours[0]['context']"
   ]
  },
  {
   "cell_type": "code",
   "execution_count": 8,
   "id": "448bc164",
   "metadata": {},
   "outputs": [
    {
     "data": {
      "text/plain": [
       "'If people perform in school talent shows often, then they attend and are very engaged with school events. People either perform in school talent shows often or are inactive and disinterested members of their community. If people chaperone high school dances, then they are not students who attend the school. All people who are inactive and disinterested members of their community chaperone high school dances. All young children and teenagers who wish to further their academic careers and educational opportunities are students who attend the school. Bonnie either both attends and is very engaged with school events and is a student who attends the school, or she neither attends and is very engaged with school events nor is a student who attends the school.'"
      ]
     },
     "execution_count": 8,
     "metadata": {},
     "output_type": "execute_result"
    }
   ],
   "source": [
    "folio[0]['context']"
   ]
  },
  {
   "cell_type": "code",
   "execution_count": 31,
   "id": "536dd10f",
   "metadata": {},
   "outputs": [
    {
     "data": {
      "text/plain": [
       "3230"
      ]
     },
     "execution_count": 31,
     "metadata": {},
     "output_type": "execute_result"
    }
   ],
   "source": [
    "with open('/data3/KJE/code/WIL_DeepLearningProject_2/NS_Parser/SITUM_EMNLP/outputs/Ours_CoT_logiqa_test_gpt-3.5-turbo.json', 'r') as f :\n",
    "    data = json.load(f)\n",
    "\n",
    "len(data)"
   ]
  },
  {
   "cell_type": "code",
   "execution_count": 44,
   "id": "b4ba4b42",
   "metadata": {},
   "outputs": [
    {
     "data": {
      "text/plain": [
       "3240"
      ]
     },
     "execution_count": 44,
     "metadata": {},
     "output_type": "execute_result"
    }
   ],
   "source": [
    "answer_path = \"/data3/KJE/code/WIL_DeepLearningProject_2/NS_Parser/SITUM_EMNLP/data/LogiQA2.0/logiqa2nli/DATA/QA2NLI/test_new2.json\"\n",
    "with open(answer_path, 'r') as f :\n",
    "    answer_file = json.load(f)\n",
    "\n",
    "len(answer_file)"
   ]
  },
  {
   "cell_type": "code",
   "execution_count": 30,
   "id": "016b9d80",
   "metadata": {},
   "outputs": [
    {
     "data": {
      "text/plain": [
       "204"
      ]
     },
     "execution_count": 30,
     "metadata": {},
     "output_type": "execute_result"
    }
   ],
   "source": [
    "with open('/data3/KJE/code/WIL_DeepLearningProject_2/NS_Parser/EMNLP_exp/Logic-LLM_reasong/results/Direct_FOLIO_none_ours_dev_non_zero_gpt-4o-mini.json', 'r') as f :\n",
    "    data = json.load(f)\n",
    "\n",
    "len(data)"
   ]
  },
  {
   "cell_type": "code",
   "execution_count": 31,
   "id": "1cbcd9fa",
   "metadata": {},
   "outputs": [
    {
     "data": {
      "text/plain": [
       "{'id': 'FOLIO_dev_0',\n",
       " 'context': \"If people perform in school talent shows often, then they attend and are very engaged with school events. People either perform in school talent shows often or are inactive and disinterested members of their community. If people chaperone high school dances, then they are not students who attend the school. All people who are inactive and disinterested members of their community chaperone high school dances. All young children and teenagers who wish to further their academic careers and educational opportunities are students who attend the school. Bonnie either both attends and is very engaged with school events and is a student who attends the school, or she neither attends and is very engaged with school events nor is a student who attends the school.time is high school dances.\\nlocation is school talent shows\\nlocation is high school\\nlocation is school\\nprotagonist is people who chaperone high school dances.\\nprotagonist is inactive and disinterested members of their community.\\nprotagonist is bonnie\\nprotagonist is students\\ncause is engagement in school events.\\ncause is inactive and disinterested members of their community chaperone high school dances.\\ncause is interest in performing or lack thereof.\\ncause is people chaperone high school dances.\\ncause is bonnie's engagement with school events.\\nintention is engagement in school events.\\nintention is chaperoning high school dances.\\nintention is encourage community engagement through talent shows.\\nintention is to ensure that high school dances are supervised.\",\n",
       " 'question': 'Based on the above information, is the following statement true, false, or uncertain? Bonnie performs in school talent shows often.',\n",
       " 'options': ['A) True', 'B) False', 'C) Uncertain'],\n",
       " 'answer': 'C',\n",
       " 'full_reasoning': 'C) Uncertain',\n",
       " 'predicted_reasoning': 'C) Uncertain',\n",
       " 'predicted_answer': 'C) Uncertain',\n",
       " 'parsed': 'C',\n",
       " 'is_hit': True,\n",
       " 'is_correct': True,\n",
       " 'acc_acc': 100.0,\n",
       " 'hit_ratio': 100.0}"
      ]
     },
     "execution_count": 31,
     "metadata": {},
     "output_type": "execute_result"
    }
   ],
   "source": [
    "data[0]"
   ]
  },
  {
   "cell_type": "code",
   "execution_count": 32,
   "id": "29c9d710",
   "metadata": {},
   "outputs": [
    {
     "name": "stdout",
     "output_type": "stream",
     "text": [
      "126\n",
      "0.6176470588235294\n"
     ]
    }
   ],
   "source": [
    "cnt = 0\n",
    "fail_list = []\n",
    "for d in data:\n",
    "    answer = d['answer'].lower()\n",
    "    if answer in d['parsed'].lower():\n",
    "        # print(answer)\n",
    "        # print( d['parsed'].lower())\n",
    "        cnt+=1 \n",
    "    else:\n",
    "        fail_list.append(d)\n",
    "\n",
    "print(cnt)\n",
    "print(cnt/len(data))"
   ]
  },
  {
   "cell_type": "code",
   "execution_count": null,
   "id": "4d5c535c",
   "metadata": {},
   "outputs": [],
   "source": [
    "fail_list"
   ]
  },
  {
   "cell_type": "code",
   "execution_count": 45,
   "id": "5a21c018",
   "metadata": {},
   "outputs": [
    {
     "name": "stdout",
     "output_type": "stream",
     "text": [
      "총 1개의 ID에서 개수 불일치 발생\n",
      "그 중 hypothesis가 다른 샘플: 1개\n",
      "pred에 없는 answer 샘플: 1개\n"
     ]
    }
   ],
   "source": [
    "from collections import Counter, defaultdict\n",
    "\n",
    "# 1) ans, pred 각각에서 id별 개수 세기\n",
    "ans_id_counts  = Counter(item['id'] for item in answer_file)\n",
    "pred_id_counts = Counter(item['id'] for item in data)\n",
    "\n",
    "# 2) ans 기준으로 pred와 개수가 다른 id 찾기\n",
    "mismatch_ids = [\n",
    "    _id for _id, cnt in ans_id_counts.items()\n",
    "    if pred_id_counts.get(_id, 0) != cnt\n",
    "]\n",
    "\n",
    "# 3) 그 id들에 대해 hypothesis가 다른 샘플만 추리기\n",
    "diff_samples = []\n",
    "for _id in mismatch_ids:\n",
    "    # ans, pred에서 해당 id의 모든 hypothesis 수집\n",
    "    ans_hyps  = [item['hypothesis'] for item in answer_file if item['id'] == _id]\n",
    "    pred_hyps = [item['questtion'] for item in data        if item['id'] == _id]\n",
    "    \n",
    "    # 서로 짝지어서, 값이 다르면 diff_samples에 추가\n",
    "    for ah in ans_hyps:\n",
    "        for ph in pred_hyps:\n",
    "            if ah != ph:\n",
    "                diff_samples.append({\n",
    "                    'id':              _id,\n",
    "                    'ans_hypothesis':  ah,\n",
    "                    'pred_hypothesis': ph\n",
    "                })\n",
    "\n",
    "# 결과 예시 출력\n",
    "print(f\"총 {len(mismatch_ids)}개의 ID에서 개수 불일치 발생\")\n",
    "print(f\"그 중 hypothesis가 다른 샘플: {len(diff_samples)}개\")\n",
    "# diff_samples 리스트를 살펴보시면 됩니다.\n",
    "\n",
    "# 1) pred 데이터에서 (id, hypothesis) 쌍을 집합으로 생성\n",
    "pred_set = {(item['id'], item['questtion']) for item in data}\n",
    "\n",
    "# 2) answer_file에서 pred_set에 없는 항목만 필터링\n",
    "missing_answers = [\n",
    "    ans for ans in answer_file\n",
    "    if (ans['id'], ans['hypothesis']) not in pred_set\n",
    "]\n",
    "\n",
    "print(f\"pred에 없는 answer 샘플: {len(missing_answers)}개\")\n",
    "\n",
    "missing_data_save_path = \"/data3/KJE/code/WIL_DeepLearningProject_2/NS_Parser/SITUM_EMNLP/data/LogiQA2.0/logiqa2nli/DATA/QA2NLI/missing_samples.json\"\n",
    "with open(missing_data_save_path, 'w') as f:\n",
    "    json.dump(missing_answers, f, ensure_ascii=False)\n"
   ]
  },
  {
   "cell_type": "code",
   "execution_count": 113,
   "id": "3887dea7",
   "metadata": {},
   "outputs": [],
   "source": [
    "from datasets import load_dataset\n",
    "\n",
    "ds = load_dataset(\"tasksource/logiqa-2.0-nli\")"
   ]
  },
  {
   "cell_type": "code",
   "execution_count": 158,
   "id": "28a05411",
   "metadata": {},
   "outputs": [
    {
     "name": "stdout",
     "output_type": "stream",
     "text": [
      "{'id': 14772, 'premise': \"Naturalist: Different nonhuman primate species exhibit many contrasts in behavior. If a zookeeper leaves a screwdriver within reach of a chimpanzee, the animal is likely to examine and play with it for a time, and then move on to something else. In the same circumstances, an orangutan is likely to pretend to ignore the tool at first; later, in the zookeeper ' s absence, the orangutan may use the screwdriver to try to dismantle its cage.\", 'hypothesis': \"Not all nonhuman primates understand tool use is most strongly supported by the naturalist's statements.\", 'label': 'not-entailment'}\n",
      "{'id': 14772, 'premise': \"Naturalist: Different nonhuman primate species exhibit many contrasts in behavior. If a zookeeper leaves a screwdriver within reach of a chimpanzee, the animal is likely to examine and play with it for a time, and then move on to something else. In the same circumstances, an orangutan is likely to pretend to ignore the tool at first; later, in the zookeeper ' s absence, the orangutan may use the screwdriver to try to dismantle its cage.\", 'hypothesis': \"Some nonhuman primates are capable of deception is most strongly supported by the naturalist's statements.\", 'label': 'entailment'}\n"
     ]
    }
   ],
   "source": [
    "for d in ds['test']:\n",
    "    if d['id'] ==14772:\n",
    "        print(d)"
   ]
  },
  {
   "cell_type": "code",
   "execution_count": 153,
   "id": "751e5cbf",
   "metadata": {},
   "outputs": [
    {
     "data": {
      "text/plain": [
       "dict_keys(['id', 'premise', 'hypothesis', 'label', 'type'])"
      ]
     },
     "execution_count": 153,
     "metadata": {},
     "output_type": "execute_result"
    }
   ],
   "source": [
    "answer_file[0].keys()"
   ]
  },
  {
   "cell_type": "code",
   "execution_count": null,
   "id": "330dc6aa",
   "metadata": {},
   "outputs": [],
   "source": []
  },
  {
   "cell_type": "code",
   "execution_count": 154,
   "id": "edc9f86f",
   "metadata": {},
   "outputs": [],
   "source": [
    "hg_answer = []\n",
    "for d in ds['test']:\n",
    "    hg_id = d['id']\n",
    "    hg_hyp = d['hypothesis']\n",
    "    hg_answer.append((hg_id, hg_hyp))\n",
    "\n",
    "git_answer = []\n",
    "for d in answer_file:\n",
    "    git_id = d['id']\n",
    "    git_hyp = d['hypothesis']\n",
    "    git_answer.append((git_id, git_hyp))"
   ]
  },
  {
   "cell_type": "code",
   "execution_count": 157,
   "id": "0d612e15",
   "metadata": {},
   "outputs": [
    {
     "data": {
      "text/plain": [
       "(3173, 3240)"
      ]
     },
     "execution_count": 157,
     "metadata": {},
     "output_type": "execute_result"
    }
   ],
   "source": [
    "len(sgit_answer), len(git_answer)"
   ]
  },
  {
   "cell_type": "code",
   "execution_count": null,
   "id": "d8a428b3",
   "metadata": {},
   "outputs": [],
   "source": []
  },
  {
   "cell_type": "code",
   "execution_count": 20,
   "id": "a9cbef89",
   "metadata": {},
   "outputs": [],
   "source": [
    "with open(\"/data3/KJE/code/WIL_DeepLearningProject_2/NS_Parser/EMNLP_exp/analy_cont/CoT_LogiQA2_test_gpt-3.5-turbo.json\", \"r\") as F:\n",
    "    results_cot = json.load(F)"
   ]
  },
  {
   "cell_type": "code",
   "execution_count": 21,
   "id": "b6a26bdc",
   "metadata": {},
   "outputs": [
    {
     "data": {
      "text/plain": [
       "3240"
      ]
     },
     "execution_count": 21,
     "metadata": {},
     "output_type": "execute_result"
    }
   ],
   "source": [
    "len(results_cot)"
   ]
  },
  {
   "cell_type": "code",
   "execution_count": 22,
   "id": "a7c36738",
   "metadata": {},
   "outputs": [],
   "source": [
    "with open(\"/data3/KJE/code/WIL_DeepLearningProject_2/NS_Parser/EMNLP_exp/analy_cont/Direct_LogiQA2_test_gpt-3.5-turbo.json\", \"r\") as F:\n",
    "    results_direct = json.load(F)"
   ]
  },
  {
   "cell_type": "code",
   "execution_count": 23,
   "id": "ac93c2ab",
   "metadata": {},
   "outputs": [
    {
     "data": {
      "text/plain": [
       "'A'"
      ]
     },
     "execution_count": 23,
     "metadata": {},
     "output_type": "execute_result"
    }
   ],
   "source": [
    "results_cot[0]['answer']"
   ]
  },
  {
   "cell_type": "code",
   "execution_count": 30,
   "id": "ddbea601",
   "metadata": {},
   "outputs": [
    {
     "name": "stdout",
     "output_type": "stream",
     "text": [
      "0.562037037037037\n",
      "1821\n",
      "3240\n",
      "1419\n"
     ]
    }
   ],
   "source": [
    "cot_correct = 0\n",
    "\n",
    "cot_fail_case =[]\n",
    "for d in results_cot:\n",
    "    if d['answer'] == 'A':\n",
    "        gt = 'a'\n",
    "    else:\n",
    "        gt = 'b'\n",
    "\n",
    "    if gt in d['parsed'].lower():\n",
    "        cot_correct += 1 \n",
    "    else:\n",
    "        cot_fail_case.append(d)\n",
    "\n",
    "print(cot_correct/(len(data)+len(data2)))\n",
    "# print(correct/(len(data)))\n",
    "print(cot_correct)\n",
    "print(len(results_cot))\n",
    "print(len(cot_fail_case))"
   ]
  },
  {
   "cell_type": "code",
   "execution_count": 274,
   "id": "d2824159",
   "metadata": {},
   "outputs": [
    {
     "data": {
      "text/plain": [
       "'A'"
      ]
     },
     "execution_count": 274,
     "metadata": {},
     "output_type": "execute_result"
    }
   ],
   "source": [
    "results_direct[0]['answer']"
   ]
  },
  {
   "cell_type": "code",
   "execution_count": 32,
   "id": "fd5e698e",
   "metadata": {},
   "outputs": [
    {
     "name": "stdout",
     "output_type": "stream",
     "text": [
      "0.5049382716049383\n",
      "1636\n",
      "3240\n",
      "1604\n"
     ]
    }
   ],
   "source": [
    "direct_correct = 0\n",
    "\n",
    "direct_fail_case =[]\n",
    "for d in results_direct:\n",
    "    if d['answer'] == 'A':\n",
    "        gt = 'a'\n",
    "    else:\n",
    "        gt = 'b'\n",
    "\n",
    "    if gt in d['parsed'].lower():\n",
    "        direct_correct += 1 \n",
    "    else:\n",
    "        direct_fail_case.append(d)\n",
    "\n",
    "print(direct_correct/(len(data)+len(data2)))\n",
    "# print(correct/(len(data)))\n",
    "print(direct_correct)\n",
    "print(len(results_direct))\n",
    "print(len(direct_fail_case))"
   ]
  },
  {
   "cell_type": "code",
   "execution_count": 105,
   "id": "494c71f0",
   "metadata": {},
   "outputs": [
    {
     "data": {
      "text/plain": [
       "(3238, 3240)"
      ]
     },
     "execution_count": 105,
     "metadata": {},
     "output_type": "execute_result"
    }
   ],
   "source": [
    "len(results_cot),len(answer_file)"
   ]
  },
  {
   "cell_type": "code",
   "execution_count": 126,
   "id": "6f345f61",
   "metadata": {},
   "outputs": [
    {
     "data": {
      "text/plain": [
       "dict_keys(['id', 'question', 'answer', 'context', 'reading', 'last_out', 'predicted_reasoning', 'predicted_answer', 'time_cost', 'parsed', 'is_correct', 'hit', 'is_best', 'ratio'])"
      ]
     },
     "execution_count": 126,
     "metadata": {},
     "output_type": "execute_result"
    }
   ],
   "source": [
    "results_cot[0].keys()"
   ]
  },
  {
   "cell_type": "code",
   "execution_count": 140,
   "id": "e27958c7",
   "metadata": {},
   "outputs": [
    {
     "data": {
      "text/plain": [
       "(\"Entailment or not-entailment between the context above and the following hypothesis?\\n\\nAssuming that three of the four sentences the teacher said are true and one is false, the correct option is 'Left hand fruit candy, right hand toffee'.\",\n",
       " \"Assuming that three of the four sentences the teacher said are true and one is false, the correct option is 'Left hand fruit candy, right hand toffee'.\")"
      ]
     },
     "execution_count": 140,
     "metadata": {},
     "output_type": "execute_result"
    }
   ],
   "source": [
    "results_cot[0]['question'], data_all[0]['questtion']"
   ]
  },
  {
   "cell_type": "code",
   "execution_count": 24,
   "id": "02151bf7",
   "metadata": {},
   "outputs": [],
   "source": [
    "data_all = data+data2"
   ]
  },
  {
   "cell_type": "code",
   "execution_count": 33,
   "id": "3ea6502e",
   "metadata": {},
   "outputs": [
    {
     "ename": "NameError",
     "evalue": "name 'data_all' is not defined",
     "output_type": "error",
     "traceback": [
      "\u001b[0;31m---------------------------------------------------------------------------\u001b[0m",
      "\u001b[0;31mNameError\u001b[0m                                 Traceback (most recent call last)",
      "Cell \u001b[0;32mIn[33], line 6\u001b[0m\n\u001b[1;32m      2\u001b[0m our_win_cot \u001b[38;5;241m=\u001b[39m[]\n\u001b[1;32m      3\u001b[0m our_win_our \u001b[38;5;241m=\u001b[39m[]\n\u001b[0;32m----> 6\u001b[0m \u001b[38;5;28;01mfor\u001b[39;00m d \u001b[38;5;129;01min\u001b[39;00m tqdm(\u001b[43mdata_all\u001b[49m):\n\u001b[1;32m      7\u001b[0m     \u001b[38;5;28mid\u001b[39m \u001b[38;5;241m=\u001b[39m d[\u001b[38;5;124m'\u001b[39m\u001b[38;5;124mid\u001b[39m\u001b[38;5;124m'\u001b[39m]\n\u001b[1;32m      8\u001b[0m     \u001b[38;5;28;01mfor\u001b[39;00m cot \u001b[38;5;129;01min\u001b[39;00m results_cot:\n",
      "\u001b[0;31mNameError\u001b[0m: name 'data_all' is not defined"
     ]
    }
   ],
   "source": [
    "from tqdm import tqdm\n",
    "our_win_cot =[]\n",
    "our_win_our =[]\n",
    "\n",
    "\n",
    "for d in tqdm(data_all):\n",
    "    id = d['id']\n",
    "    for cot in results_cot:\n",
    "        cot_id = int(cot['id'].split('LogiQA_2_test_')[1].split('_')[0])\n",
    "\n",
    "        if id == cot_id:\n",
    "            # print(f\"[Ours]: {d['questtion']}\")\n",
    "            # ccc = cot['question'].split('Entailment or not-entailment between the context above and the following hypothesis?\\n\\n')[1]\n",
    "            # print(f\"[CoT]: {ccc}\")\n",
    "            # print()\n",
    "            if d['questtion'] in cot['question']:\n",
    "                ans = d['answer']\n",
    "                our_pre = d['predicted_answer'].lower()\n",
    "                cot_pre = cot['parsed'].lower()\n",
    "                # print(our_pre,cot_pre)\n",
    "\n",
    "                if ans == 'entailment':\n",
    "                    gt ='a'\n",
    "                else:\n",
    "                    gt='b'\n",
    "                \n",
    "                if gt in our_pre and gt not in cot_pre:\n",
    "                    our_win_our.append(d)\n",
    "                    our_win_cot.append(cot)\n",
    "        "
   ]
  },
  {
   "cell_type": "code",
   "execution_count": 160,
   "id": "fb9995d2",
   "metadata": {},
   "outputs": [],
   "source": [
    "our_win_all =[]\n",
    "our_win_d =[]\n",
    "\n",
    "for d in our_win_our:\n",
    "    id = d['id']\n",
    "    for cot in results_direct:\n",
    "        cot_id = int(cot['id'].split('LogiQA_2_test_')[1].split('_')[0])\n",
    "\n",
    "        if id == cot_id:\n",
    "            # print(f\"[Ours]: {d['questtion']}\")\n",
    "            # ccc = cot['question'].split('Entailment or not-entailment between the context above and the following hypothesis?\\n\\n')[1]\n",
    "            # print(f\"[CoT]: {ccc}\")\n",
    "            # print()\n",
    "            if d['questtion'] in cot['question']:\n",
    "                ans = d['answer']\n",
    "                our_pre = d['predicted_answer'].lower()\n",
    "                cot_pre = cot['parsed'].lower()\n",
    "                # print(our_pre,cot_pre)\n",
    "\n",
    "                if ans == 'entailment':\n",
    "                    gt ='a'\n",
    "                else:\n",
    "                    gt='b'\n",
    "                \n",
    "                if gt in our_pre and gt not in cot_pre:\n",
    "                    our_win_all.append(d)\n",
    "                    our_win_d.append(cot)\n",
    "    "
   ]
  },
  {
   "cell_type": "code",
   "execution_count": 161,
   "id": "a9c694dd",
   "metadata": {},
   "outputs": [
    {
     "data": {
      "text/plain": [
       "(521, 298)"
      ]
     },
     "execution_count": 161,
     "metadata": {},
     "output_type": "execute_result"
    }
   ],
   "source": [
    "len(our_win_cot),len(our_win_all)"
   ]
  },
  {
   "cell_type": "code",
   "execution_count": 189,
   "id": "c8d3e141",
   "metadata": {},
   "outputs": [
    {
     "data": {
      "text/plain": [
       "19"
      ]
     },
     "execution_count": 189,
     "metadata": {},
     "output_type": "execute_result"
    }
   ],
   "source": [
    "len(our_win_our[0]['reasoning'])"
   ]
  },
  {
   "cell_type": "code",
   "execution_count": null,
   "id": "3b551540",
   "metadata": {},
   "outputs": [],
   "source": []
  },
  {
   "cell_type": "code",
   "execution_count": null,
   "id": "31ddc226",
   "metadata": {},
   "outputs": [],
   "source": []
  },
  {
   "cell_type": "code",
   "execution_count": null,
   "id": "5df970d6",
   "metadata": {},
   "outputs": [],
   "source": [
    "real_reasoning_ours = []\n",
    "real_reasoning_ours_indices = []\n",
    "for idx, o in enumerate(our_win_our):\n",
    "    # if len(o['reasoning']) > 19 and not o['reasoning'].startswith(\"**Final Answer\"): real_reasoning_ours.append(o)\n",
    "    if len(o['reasoning']) > 19: \n",
    "        real_reasoning_ours.append(o)\n",
    "        real_reasoning_ours_indices.append(idx)\n",
    "    \n",
    "len(real_reasoning_ours)"
   ]
  },
  {
   "cell_type": "code",
   "execution_count": 72,
   "id": "bc8b8e58",
   "metadata": {},
   "outputs": [
    {
     "ename": "NameError",
     "evalue": "name 'real_reasoning_ours_indices' is not defined",
     "output_type": "error",
     "traceback": [
      "\u001b[0;31m---------------------------------------------------------------------------\u001b[0m",
      "\u001b[0;31mNameError\u001b[0m                                 Traceback (most recent call last)",
      "Cell \u001b[0;32mIn[72], line 5\u001b[0m\n\u001b[1;32m      3\u001b[0m our_win_our_reasoing \u001b[38;5;241m=\u001b[39m []\n\u001b[1;32m      4\u001b[0m our_win_cot_reasoing \u001b[38;5;241m=\u001b[39m []\n\u001b[0;32m----> 5\u001b[0m \u001b[38;5;28;01mfor\u001b[39;00m idx \u001b[38;5;129;01min\u001b[39;00m \u001b[43mreal_reasoning_ours_indices\u001b[49m:\n\u001b[1;32m      6\u001b[0m     our_win_our_reasoing\u001b[38;5;241m.\u001b[39mappend(our_win_our[idx])\n\u001b[1;32m      7\u001b[0m     our_win_cot_reasoing\u001b[38;5;241m.\u001b[39mappend(our_win_cot[idx])\n",
      "\u001b[0;31mNameError\u001b[0m: name 'real_reasoning_ours_indices' is not defined"
     ]
    }
   ],
   "source": [
    "import os\n",
    "\n",
    "our_win_our_reasoing = []\n",
    "our_win_cot_reasoing = []\n",
    "for idx in real_reasoning_ours_indices:\n",
    "    our_win_our_reasoing.append(our_win_our[idx])\n",
    "    our_win_cot_reasoing.append(our_win_cot[idx])\n",
    "\n",
    "base_path = \"/data3/KJE/code/WIL_DeepLearningProject_2/NS_Parser/SITUM_EMNLP/outputs\"\n",
    "ours_path = \"ours_win_ours.json\"\n",
    "cot_path = \"our_win_cot.json\"\n",
    "with open(os.path.join(base_path, ours_path), 'w') as f:\n",
    "    json.dump(our_win_our_reasoing, f, indent=4, ensure_ascii=False)\n",
    "\n",
    "with open(os.path.join(base_path, cot_path), 'w') as f:\n",
    "    json.dump(our_win_cot_reasoing, f, indent=4, ensure_ascii=False)"
   ]
  },
  {
   "cell_type": "code",
   "execution_count": 389,
   "id": "00dd2475",
   "metadata": {},
   "outputs": [
    {
     "data": {
      "text/plain": [
       "{'id': 671,\n",
       " 'questtion': 'Organize some employees to travel abroad before the Spring Festival is not unpaid prompting.',\n",
       " 'original_context': 'Unpaid prompting: non economic remuneration refers to the remuneration received by employees from their own work. Employees are praised, promoted and valued for their hard work, resulting in a sense of work honor, achievement and responsibility, as well as social respect and career development opportunities',\n",
       " 'reading': \"Let's read step by step. \\n\\nUnpaid prompting: non-economic remuneration refers to the remuneration received by employees from their own work. {time: ['none'], space:['none'], causality: ['none'], intention:['none'], protagonist: ['employees']}\\n\\nEmployees are praised, promoted, and valued for their hard work, resulting in a sense of work honor, achievement, and responsibility, as well as social respect and career development opportunities. {time: ['none'], space:['none'], causality: ['employees are praised, promoted, and valued for their hard work'], intention:['none'], protagonist: ['employees']}\",\n",
       " 'reasoning': 'Given the context provided, which focuses on non-economic remuneration received by employees for their work and the positive outcomes associated with it, there is no direct mention of organizing employees to travel abroad before the Spring Festival. Therefore, it can be concluded that the hypothesis about organizing employees to travel abroad before the Spring Festival not being unpaid prompting is **Not-entailment** based on the context.\\n\\n**Final Answer: B (Not-entailment)**',\n",
       " 'predicted_answer': 'B (Not-entailment)**',\n",
       " 'answer': 'entailment',\n",
       " 'predicted_choice': 'No final answer found in the text.',\n",
       " 'time_cost': 5.094521760940552}"
      ]
     },
     "execution_count": 389,
     "metadata": {},
     "output_type": "execute_result"
    }
   ],
   "source": [
    "idx=2\n",
    "our_win_our_reasoing[idx]"
   ]
  },
  {
   "cell_type": "code",
   "execution_count": 390,
   "id": "83d5a9b0",
   "metadata": {},
   "outputs": [
    {
     "data": {
      "text/plain": [
       "{'id': 'LogiQA_2_test_671_88',\n",
       " 'question': 'Entailment or not-entailment between the context above and the following hypothesis?\\n\\nOrganize some employees to travel abroad before the Spring Festival is not unpaid prompting.',\n",
       " 'answer': 'A',\n",
       " 'context': 'Unpaid prompting: non economic remuneration refers to the remuneration received by employees from their own work. Employees are praised, promoted and valued for their hard work, resulting in a sense of work honor, achievement and responsibility, as well as social respect and career development opportunities',\n",
       " 'reading': '',\n",
       " 'last_out': '1. The context discusses non-economic remuneration received by employees for their hard work, such as praise, promotion, and career development opportunities.\\n2. The hypothesis states that organizing some employees to travel abroad before the Spring Festival is not unpaid prompting.\\n3. Traveling abroad before the Spring Festival is a form of remuneration that is not mentioned in the context.\\n4. Therefore, there is no direct connection or entailment between the context and the hypothesis.\\n\\n**Final Answer: B (Not-entailment)**',\n",
       " 'predicted_reasoning': '1. The context discusses non-economic remuneration received by employees for their hard work, such as praise, promotion, and career development opportunities.\\n2. The hypothesis states that organizing some employees to travel abroad before the Spring Festival is not unpaid prompting.\\n3. Traveling abroad before the Spring Festival is a form of remuneration that is not mentioned in the context.\\n4. Therefore, there is no direct connection or entailment between the context and the hypothesis.\\n\\n**Final Answer: B (Not-entailment)**',\n",
       " 'predicted_answer': '1. The context discusses non-economic remuneration received by employees for their hard work, such as praise, promotion, and career development opportunities.\\n2. The hypothesis states that organizing some employees to travel abroad before the Spring Festival is not unpaid prompting.\\n3. Traveling abroad before the Spring Festival is a form of remuneration that is not mentioned in the context.\\n4. Therefore, there is no direct connection or entailment between the context and the hypothesis.\\n\\n**Final Answer: B (Not-entailment)**',\n",
       " 'time_cost': 0,\n",
       " 'parsed': 'B',\n",
       " 'is_correct': False,\n",
       " 'hit': True,\n",
       " 'is_best': False,\n",
       " 'ratio': '65.169% (58/89)'}"
      ]
     },
     "execution_count": 390,
     "metadata": {},
     "output_type": "execute_result"
    }
   ],
   "source": [
    "our_win_cot_reasoing[idx]"
   ]
  },
  {
   "cell_type": "code",
   "execution_count": 212,
   "id": "d1b0a444",
   "metadata": {},
   "outputs": [
    {
     "name": "stdout",
     "output_type": "stream",
     "text": [
      "Let's read step by step.\n",
      "\n",
      "If the public policy of a certain place is formulated correctly and implemented effectively, there will be no large-scale petitions. {time: ['none'], space:['certain place'], causality: ['none'], intention:['none'], protagonist: ['public policy', 'large-scale petitions']}\n",
      "\n",
      "Only when the relevant decision-makers do not care about the masses will large-scale petitions occur. {time: ['none'], space:['none'], causality: ['public policy is formulated correctly and implemented effectively -> no large-scale petitions', 'decision-makers do not care about masses -> large-scale petitions occur'], intention:['none'], protagonist: ['decision-makers', 'masses', 'large-scale petitions']}\n",
      "\n",
      "The public policy formulation of a certain place is correct, and the relevant decision-makers are also concerned. {time: ['none'], space:['certain place'], causality: ['public policy is formulated correctly', 'decision-makers are concerned'], intention:['none'], protagonist: ['public policy', 'decision-makers']}\n",
      "\n",
      "Relying on the masses and conducting in-depth actual investigations and studies, the local masses are satisfied with this. {time: ['none'], space:['local'], causality: ['none'], intention:['satisfy the local masses'], protagonist: ['masses', 'investigations', 'studies']}\n"
     ]
    }
   ],
   "source": [
    "import random\n",
    "print(our_win_our[123]['reading'])"
   ]
  },
  {
   "cell_type": "code",
   "execution_count": 187,
   "id": "d173d9a2",
   "metadata": {},
   "outputs": [
    {
     "name": "stdout",
     "output_type": "stream",
     "text": [
      "1. The context states that if the public policy is formulated correctly and implemented effectively, there will be no large-scale petitions.\n",
      "2. It also mentions that large-scale petitions occur only when decision-makers do not care about the masses.\n",
      "3. The context further states that the public policy formulation is correct in a certain place, and the decision-makers are concerned.\n",
      "4. Additionally, it mentions that the local masses are satisfied with the policy after relying on them and conducting in-depth investigations.\n",
      "\n",
      "Given the above information, we can conclude that if there are no large-scale petitions in a certain place, it implies that the public policy is formulated correctly and effectively, and the decision-makers care about the masses. Therefore, the hypothesis that \"If there is no large-scale petition in a certain place, then the public policy of that place is formulated correctly\" is entailed by the context.\n",
      "\n",
      "**Final Answer: A (Entailment)**\n"
     ]
    }
   ],
   "source": [
    "print(our_win_cot[123]['predicted_reasoning'])"
   ]
  },
  {
   "cell_type": "code",
   "execution_count": 215,
   "id": "e19de493",
   "metadata": {},
   "outputs": [
    {
     "data": {
      "text/plain": [
       "{'id': 7609,\n",
       " 'questtion': \"Assuming that three of the four sentences the teacher said are true and one is false, the correct option is 'Left hand fruit candy, right hand toffee'.\",\n",
       " 'original_context': 'There are two kinds of fruit candy and toffee in the jar.The kindergarten teacher put his hands into the jar, and then clenched his fists to take out a piece of candies. Then the teacher said four things: 1. The right hand is definitely not fruit candy. 2. Or the left hand is fruit candies, or fruit candies on the right hand. 3. If the left hand is fruit candies, then the right hand is not fruit candies. 4. Both the left hand and the right hand are fruit candies.',\n",
       " 'reading': \"Let's read step by step.\\n\\nThere are two kinds of fruit candy and toffee in the jar. {time: ['none'], space:['jar'], causality: ['none'], intention:['none'], protagonist: ['none']}\\n\\nThe kindergarten teacher put his hands into the jar, and then clenched his fists to take out a piece of candies. {time: ['none'], space:['jar'], causality: ['none'], intention:['none'], protagonist: ['kindergarten teacher']}\\n\\nThen the teacher said four things:\\n1. The right hand is definitely not fruit candy. {time: ['none'], space:['none'], causality: ['teacher took out candies'], intention:['none'], protagonist: ['teacher']}\\n\\n2. Or the left hand is fruit candies, or fruit candies on the right hand. {time: ['none'], space:['none'], causality: ['teacher took out candies'], intention:['none'], protagonist: ['teacher']}\\n\\n3. If the left hand is fruit candies, then the right hand is not fruit candies. {time: ['none'], space:['none'], causality: ['teacher took out candies'], intention:['none'], protagonist: ['teacher']}\\n\\n4. Both the left hand and the right hand are fruit candies. {time: ['none'], space:['none'], causality: ['teacher took out candies'], intention:['none'], protagonist: ['teacher']}\",\n",
       " 'reasoning': '**Final Answer: B**',\n",
       " 'predicted_answer': 'B**',\n",
       " 'answer': 'entailment',\n",
       " 'predicted_choice': 'No final answer found in the text.',\n",
       " 'time_cost': 7.184376955032349}"
      ]
     },
     "execution_count": 215,
     "metadata": {},
     "output_type": "execute_result"
    }
   ],
   "source": [
    "data_all[0]"
   ]
  },
  {
   "cell_type": "code",
   "execution_count": 216,
   "id": "5023c922",
   "metadata": {},
   "outputs": [
    {
     "data": {
      "text/plain": [
       "{'id': 7609,\n",
       " 'premise': 'There are two kinds of fruit candy and toffee in the jar.The kindergarten teacher put his hands into the jar, and then clenched his fists to take out a piece of candies. Then the teacher said four things: 1. The right hand is definitely not fruit candy. 2. Or the left hand is fruit candies, or fruit candies on the right hand. 3. If the left hand is fruit candies, then the right hand is not fruit candies. 4. Both the left hand and the right hand are fruit candies.',\n",
       " 'hypothesis': \"Assuming that three of the four sentences the teacher said are true and one is false, the correct option is 'Left hand fruit candy, right hand toffee'.\",\n",
       " 'label': 'entailment',\n",
       " 'type': {'Sufficient Conditional Reasoning': True,\n",
       "  'Disjunctive Reasoning': True,\n",
       "  'Conjunctive Reasoning': True}}"
      ]
     },
     "execution_count": 216,
     "metadata": {},
     "output_type": "execute_result"
    }
   ],
   "source": [
    "answer_file[0]"
   ]
  },
  {
   "cell_type": "markdown",
   "id": "4fe731a8",
   "metadata": {},
   "source": [
    "fail_case"
   ]
  },
  {
   "cell_type": "code",
   "execution_count": 47,
   "id": "5c752d03",
   "metadata": {},
   "outputs": [
    {
     "name": "stderr",
     "output_type": "stream",
     "text": [
      "100%|██████████| 1464/1464 [00:00<00:00, 4655.30it/s]\n"
     ]
    }
   ],
   "source": [
    "from tqdm import tqdm\n",
    "our_failcase_answer = []\n",
    "for d in tqdm(fail_case):\n",
    "    id = d['id']\n",
    "    for ans in answer_file:\n",
    "        cot_id = ans['id']\n",
    "        if id == cot_id and d['questtion'] == ans['hypothesis']:\n",
    "            our_failcase_answer.append(ans)\n",
    "            break"
   ]
  },
  {
   "cell_type": "code",
   "execution_count": 37,
   "id": "b691d687",
   "metadata": {},
   "outputs": [
    {
     "data": {
      "text/plain": [
       "dict_keys(['id', 'question', 'answer', 'context', 'reading', 'last_out', 'predicted_reasoning', 'predicted_answer', 'time_cost', 'parsed', 'is_correct', 'hit', 'is_best', 'acc_acc'])"
      ]
     },
     "execution_count": 37,
     "metadata": {},
     "output_type": "execute_result"
    }
   ],
   "source": [
    "cot_fail_case[0].keys()"
   ]
  },
  {
   "cell_type": "code",
   "execution_count": 31,
   "id": "906516a9",
   "metadata": {},
   "outputs": [
    {
     "name": "stderr",
     "output_type": "stream",
     "text": [
      "100%|█████████▉| 1418/1419 [00:00<00:00, 3303.62it/s]\n"
     ]
    },
    {
     "ename": "IndexError",
     "evalue": "list index out of range",
     "output_type": "error",
     "traceback": [
      "\u001b[0;31m---------------------------------------------------------------------------\u001b[0m",
      "\u001b[0;31mIndexError\u001b[0m                                Traceback (most recent call last)",
      "Cell \u001b[0;32mIn[31], line 6\u001b[0m\n\u001b[1;32m      4\u001b[0m \u001b[38;5;28;01mfor\u001b[39;00m ans \u001b[38;5;129;01min\u001b[39;00m answer_file:\n\u001b[1;32m      5\u001b[0m     cot_id \u001b[38;5;241m=\u001b[39m ans[\u001b[38;5;124m'\u001b[39m\u001b[38;5;124mid\u001b[39m\u001b[38;5;124m'\u001b[39m]\n\u001b[0;32m----> 6\u001b[0m     \u001b[38;5;28;01mif\u001b[39;00m \u001b[38;5;28mid\u001b[39m \u001b[38;5;241m==\u001b[39m cot_id \u001b[38;5;129;01mand\u001b[39;00m \u001b[43md\u001b[49m\u001b[43m[\u001b[49m\u001b[38;5;124;43m'\u001b[39;49m\u001b[38;5;124;43mquestion\u001b[39;49m\u001b[38;5;124;43m'\u001b[39;49m\u001b[43m]\u001b[49m\u001b[38;5;241;43m.\u001b[39;49m\u001b[43msplit\u001b[49m\u001b[43m(\u001b[49m\u001b[38;5;124;43m'\u001b[39;49m\u001b[38;5;124;43mEntailment or not-entailment between the context above and the following hypothesis?\u001b[39;49m\u001b[38;5;130;43;01m\\n\u001b[39;49;00m\u001b[38;5;130;43;01m\\n\u001b[39;49;00m\u001b[38;5;124;43m'\u001b[39;49m\u001b[43m)\u001b[49m\u001b[43m[\u001b[49m\u001b[38;5;241;43m1\u001b[39;49m\u001b[43m]\u001b[49m \u001b[38;5;241m==\u001b[39m ans[\u001b[38;5;124m'\u001b[39m\u001b[38;5;124mhypothesis\u001b[39m\u001b[38;5;124m'\u001b[39m]:\n\u001b[1;32m      7\u001b[0m         cot_failcase_answer\u001b[38;5;241m.\u001b[39mappend(ans)\n\u001b[1;32m      8\u001b[0m         \u001b[38;5;28;01mbreak\u001b[39;00m\n",
      "\u001b[0;31mIndexError\u001b[0m: list index out of range"
     ]
    }
   ],
   "source": [
    "cot_failcase_answer = []\n",
    "for d in tqdm(cot_fail_case):\n",
    "    id = int(d['id'].split('LogiQA_2_test_')[1].split('_')[0])\n",
    "    for ans in answer_file:\n",
    "        cot_id = ans['id']\n",
    "        if id == cot_id and d['question'].split('Entailment or not-entailment between the context above and the following hypothesis?\\n\\n')[1] == ans['hypothesis']:\n",
    "            cot_failcase_answer.append(ans)\n",
    "            break"
   ]
  },
  {
   "cell_type": "code",
   "execution_count": 33,
   "id": "b8a75cea",
   "metadata": {},
   "outputs": [
    {
     "name": "stderr",
     "output_type": "stream",
     "text": [
      "100%|█████████▉| 1603/1604 [00:00<00:00, 3533.04it/s]\n"
     ]
    },
    {
     "ename": "IndexError",
     "evalue": "list index out of range",
     "output_type": "error",
     "traceback": [
      "\u001b[0;31m---------------------------------------------------------------------------\u001b[0m",
      "\u001b[0;31mIndexError\u001b[0m                                Traceback (most recent call last)",
      "Cell \u001b[0;32mIn[33], line 6\u001b[0m\n\u001b[1;32m      4\u001b[0m \u001b[38;5;28;01mfor\u001b[39;00m ans \u001b[38;5;129;01min\u001b[39;00m answer_file:\n\u001b[1;32m      5\u001b[0m     cot_id \u001b[38;5;241m=\u001b[39m ans[\u001b[38;5;124m'\u001b[39m\u001b[38;5;124mid\u001b[39m\u001b[38;5;124m'\u001b[39m]\n\u001b[0;32m----> 6\u001b[0m     \u001b[38;5;28;01mif\u001b[39;00m \u001b[38;5;28mid\u001b[39m \u001b[38;5;241m==\u001b[39m cot_id \u001b[38;5;129;01mand\u001b[39;00m \u001b[43md\u001b[49m\u001b[43m[\u001b[49m\u001b[38;5;124;43m'\u001b[39;49m\u001b[38;5;124;43mquestion\u001b[39;49m\u001b[38;5;124;43m'\u001b[39;49m\u001b[43m]\u001b[49m\u001b[38;5;241;43m.\u001b[39;49m\u001b[43msplit\u001b[49m\u001b[43m(\u001b[49m\u001b[38;5;124;43m'\u001b[39;49m\u001b[38;5;124;43mEntailment or not-entailment between the context above and the following hypothesis?\u001b[39;49m\u001b[38;5;130;43;01m\\n\u001b[39;49;00m\u001b[38;5;130;43;01m\\n\u001b[39;49;00m\u001b[38;5;124;43m'\u001b[39;49m\u001b[43m)\u001b[49m\u001b[43m[\u001b[49m\u001b[38;5;241;43m1\u001b[39;49m\u001b[43m]\u001b[49m \u001b[38;5;241m==\u001b[39m ans[\u001b[38;5;124m'\u001b[39m\u001b[38;5;124mhypothesis\u001b[39m\u001b[38;5;124m'\u001b[39m]:\n\u001b[1;32m      7\u001b[0m         direct_failcase_answer\u001b[38;5;241m.\u001b[39mappend(ans)\n\u001b[1;32m      8\u001b[0m         \u001b[38;5;28;01mbreak\u001b[39;00m\n",
      "\u001b[0;31mIndexError\u001b[0m: list index out of range"
     ]
    }
   ],
   "source": [
    "direct_failcase_answer = []\n",
    "for d in tqdm(direct_fail_case):\n",
    "    id = int(d['id'].split('LogiQA_2_test_')[1].split('_')[0])\n",
    "    for ans in answer_file:\n",
    "        cot_id = ans['id']\n",
    "        if id == cot_id and d['question'].split('Entailment or not-entailment between the context above and the following hypothesis?\\n\\n')[1] == ans['hypothesis']:\n",
    "            direct_failcase_answer.append(ans)\n",
    "            break"
   ]
  },
  {
   "cell_type": "code",
   "execution_count": 286,
   "id": "9e067484",
   "metadata": {},
   "outputs": [
    {
     "data": {
      "text/plain": [
       "{'id': 8443,\n",
       " 'premise': 'Social phobia is an important subtype of anxiety disorder, its main symptom is the fear of being watched, such as fear of speaking in public, and even afraid to go out when the symptoms are serious. Shyness is a common personality trait, which is not pathological in itself. However, the vast majority of patients with social phobia will be significantly relieved after treatment, and psychotherapy should be the first choice for patients with mild symptoms; if patients are unable or unwilling to receive psychotherapy because of busy work and other reasons, drug treatment can be the first choice, but the combination of drug therapy and psychotherapy is the most effective way to treat social phobia. In addition, most people with social phobias start in adolescence, so prevention is very important.',\n",
       " 'hypothesis': 'Combination therapy is the most effective in patients with mild symptoms is true according to the passage.',\n",
       " 'label': 'entailment',\n",
       " 'type': {'Categorical Reasoning': True,\n",
       "  'Sufficient Conditional Reasoning': True,\n",
       "  'Disjunctive Reasoning': True,\n",
       "  'Conjunctive Reasoning': True}}"
      ]
     },
     "execution_count": 286,
     "metadata": {},
     "output_type": "execute_result"
    }
   ],
   "source": [
    "cot_failcase_answer[0]"
   ]
  },
  {
   "cell_type": "code",
   "execution_count": 10,
   "id": "7076904e",
   "metadata": {},
   "outputs": [],
   "source": [
    "from collections import Counter"
   ]
  },
  {
   "cell_type": "code",
   "execution_count": 48,
   "id": "2d3f7e1a",
   "metadata": {},
   "outputs": [],
   "source": [
    "counter = Counter()\n",
    "for item in our_failcase_answer:\n",
    "    for t, val in item['type'].items():\n",
    "        if val:\n",
    "            counter[t] += 1\n",
    "\n",
    "# 그래프 데이터 준비\n",
    "labels = list(counter.keys())\n",
    "counts = [counter[label] for label in labels]"
   ]
  },
  {
   "cell_type": "code",
   "execution_count": 49,
   "id": "5510b221",
   "metadata": {},
   "outputs": [],
   "source": [
    "total_counter = Counter()\n",
    "for item in answer_file:\n",
    "    for t, val in item['type'].items():\n",
    "        if val:\n",
    "            total_counter[t] += 1\n",
    "\n",
    "# 그래프 데이터 준비\n",
    "labels = list(total_counter.keys())\n",
    "total_counts = [total_counter[label] for label in labels]"
   ]
  },
  {
   "cell_type": "code",
   "execution_count": 50,
   "id": "133dc3c4",
   "metadata": {},
   "outputs": [
    {
     "data": {
      "text/plain": [
       "Counter({'Sufficient Conditional Reasoning': 3072,\n",
       "         'Conjunctive Reasoning': 2755,\n",
       "         'Categorical Reasoning': 1945,\n",
       "         'Necessry Condtional Reasoning': 1301,\n",
       "         'Disjunctive Reasoning': 875})"
      ]
     },
     "execution_count": 50,
     "metadata": {},
     "output_type": "execute_result"
    }
   ],
   "source": [
    "total_counter"
   ]
  },
  {
   "cell_type": "code",
   "execution_count": 52,
   "id": "7f338d4c",
   "metadata": {},
   "outputs": [],
   "source": [
    "tsu=total_counter['Sufficient Conditional Reasoning']\n",
    "tcon=total_counter['Conjunctive Reasoning']\n",
    "tca=total_counter['Categorical Reasoning']\n",
    "tnc=total_counter['Necessry Condtional Reasoning']\n",
    "tdis=total_counter['Disjunctive Reasoning']"
   ]
  },
  {
   "cell_type": "code",
   "execution_count": 34,
   "id": "cee80453",
   "metadata": {},
   "outputs": [],
   "source": [
    "cot_counter = Counter()\n",
    "for item in cot_failcase_answer:\n",
    "    for t, val in item['type'].items():\n",
    "        if val:\n",
    "            cot_counter[t] += 1\n",
    "\n",
    "# 그래프 데이터 준비\n",
    "labels = list(cot_counter.keys())\n",
    "cot_counts = [cot_counter[label] for label in labels]"
   ]
  },
  {
   "cell_type": "code",
   "execution_count": 79,
   "id": "2128690e",
   "metadata": {},
   "outputs": [
    {
     "data": {
      "text/plain": [
       "Counter({'Sufficient Conditional Reasoning': 1354,\n",
       "         'Conjunctive Reasoning': 1202,\n",
       "         'Categorical Reasoning': 844,\n",
       "         'Necessry Condtional Reasoning': 572,\n",
       "         'Disjunctive Reasoning': 373})"
      ]
     },
     "execution_count": 79,
     "metadata": {},
     "output_type": "execute_result"
    }
   ],
   "source": [
    "cot_counter"
   ]
  },
  {
   "cell_type": "code",
   "execution_count": 35,
   "id": "fa2d0149",
   "metadata": {},
   "outputs": [],
   "source": [
    "direct_counter = Counter()\n",
    "for item in direct_failcase_answer:\n",
    "    for t, val in item['type'].items():\n",
    "        if val:\n",
    "            direct_counter[t] += 1\n",
    "\n",
    "# 그래프 데이터 준비\n",
    "labels = list(direct_counter.keys())\n",
    "direct_counts = [direct_counter[label] for label in labels]"
   ]
  },
  {
   "cell_type": "code",
   "execution_count": 80,
   "id": "d101fb93",
   "metadata": {},
   "outputs": [
    {
     "data": {
      "text/plain": [
       "Counter({'Sufficient Conditional Reasoning': 1520,\n",
       "         'Conjunctive Reasoning': 1364,\n",
       "         'Categorical Reasoning': 966,\n",
       "         'Necessry Condtional Reasoning': 641,\n",
       "         'Disjunctive Reasoning': 429})"
      ]
     },
     "execution_count": 80,
     "metadata": {},
     "output_type": "execute_result"
    }
   ],
   "source": [
    "direct_counter"
   ]
  },
  {
   "cell_type": "code",
   "execution_count": 83,
   "id": "4372f5ff",
   "metadata": {},
   "outputs": [
    {
     "name": "stdout",
     "output_type": "stream",
     "text": [
      "0.5033419023136247\n",
      "0.5049001814882033\n",
      "0.5097142857142858\n",
      "0.5073020753266717\n",
      "0.5052083333333333\n"
     ]
    }
   ],
   "source": [
    "print(1-direct_counter['Categorical Reasoning']/tca)\n",
    "print(1-direct_counter['Conjunctive Reasoning']/tcon)\n",
    "print(1-direct_counter['Disjunctive Reasoning']/tdis)\n",
    "print(1-direct_counter['Necessry Condtional Reasoning']/tnc)\n",
    "print(1-direct_counter['Sufficient Conditional Reasoning']/tsu)\n",
    "\n",
    "\n"
   ]
  },
  {
   "cell_type": "code",
   "execution_count": 50,
   "id": "33d48fcf",
   "metadata": {},
   "outputs": [
    {
     "data": {
      "text/plain": [
       "Counter({'Sufficient Conditional Reasoning': 1354,\n",
       "         'Conjunctive Reasoning': 1202,\n",
       "         'Categorical Reasoning': 844,\n",
       "         'Necessry Condtional Reasoning': 572,\n",
       "         'Disjunctive Reasoning': 373})"
      ]
     },
     "execution_count": 50,
     "metadata": {},
     "output_type": "execute_result"
    }
   ],
   "source": [
    "cot_counter"
   ]
  },
  {
   "cell_type": "code",
   "execution_count": 84,
   "id": "249a586f",
   "metadata": {},
   "outputs": [
    {
     "name": "stdout",
     "output_type": "stream",
     "text": [
      "0.5660668380462726\n",
      "0.5637023593466425\n",
      "0.5737142857142857\n",
      "0.5603382013835512\n",
      "0.5592447916666667\n"
     ]
    }
   ],
   "source": [
    "print(1-cot_counter['Categorical Reasoning']/tca)\n",
    "print(1-cot_counter['Conjunctive Reasoning']/tcon)\n",
    "print(1-cot_counter['Disjunctive Reasoning']/tdis)\n",
    "print(1-cot_counter['Necessry Condtional Reasoning']/tnc)\n",
    "print(1-cot_counter['Sufficient Conditional Reasoning']/tsu)\n",
    "\n"
   ]
  },
  {
   "cell_type": "code",
   "execution_count": 51,
   "id": "cea9f4c0",
   "metadata": {},
   "outputs": [
    {
     "data": {
      "text/plain": [
       "Counter({'Sufficient Conditional Reasoning': 1286,\n",
       "         'Conjunctive Reasoning': 1133,\n",
       "         'Categorical Reasoning': 812,\n",
       "         'Necessry Condtional Reasoning': 561,\n",
       "         'Disjunctive Reasoning': 368})"
      ]
     },
     "execution_count": 51,
     "metadata": {},
     "output_type": "execute_result"
    }
   ],
   "source": [
    "counter"
   ]
  },
  {
   "cell_type": "code",
   "execution_count": 53,
   "id": "f1e2da1d",
   "metadata": {},
   "outputs": [
    {
     "name": "stdout",
     "output_type": "stream",
     "text": [
      "0.5460154241645244\n",
      "0.5502722323049002\n",
      "0.5485714285714286\n",
      "0.5342044581091467\n",
      "0.5462239583333333\n"
     ]
    }
   ],
   "source": [
    "print(1-counter['Categorical Reasoning']/tca)\n",
    "print(1-counter['Conjunctive Reasoning']/tcon)\n",
    "print(1-counter['Disjunctive Reasoning']/tdis)\n",
    "print(1-counter['Necessry Condtional Reasoning']/tnc)\n",
    "print(1-counter['Sufficient Conditional Reasoning']/tsu)\n"
   ]
  },
  {
   "cell_type": "code",
   "execution_count": 37,
   "id": "b7164970",
   "metadata": {},
   "outputs": [
    {
     "data": {
      "image/png": "[encoded data removed]",
      "text/plain": [
       "<Figure size 1200x600 with 1 Axes>"
      ]
     },
     "metadata": {},
     "output_type": "display_data"
    }
   ],
   "source": [
    "import matplotlib.pyplot as plt\n",
    "import numpy as np\n",
    "\n",
    "# 모든 레이블 수집\n",
    "labels = sorted(set(direct_counter.keys()) | set(cot_counter.keys()) | set(counter.keys()))\n",
    "\n",
    "# 값 추출\n",
    "direct_counts_plot    = [direct_counter.get(label, 0) for label in labels]\n",
    "cot_counts_plot       = [cot_counter.get(label, 0) for label in labels]\n",
    "situation_counts_plot = [counter.get(label, 0) for label in labels]\n",
    "\n",
    "# 막대 위치\n",
    "x = np.arange(len(labels))\n",
    "width = 0.25\n",
    "\n",
    "# 막대 색상 지정: 감소한 경우 강조색 사용\n",
    "situation_colors = []\n",
    "for i, label in enumerate(labels):\n",
    "    max_other = max(direct_counts_plot[i], cot_counts_plot[i])\n",
    "    if counter.get(label, 0) < max_other:\n",
    "        situation_colors.append('red')  # 감소한 경우 강조 색\n",
    "    else:\n",
    "        situation_colors.append('gray')  # 그렇지 않은 경우 중립 색\n",
    "\n",
    "# 플롯\n",
    "plt.figure(figsize=(12, 6))\n",
    "plt.bar(x - width, direct_counts_plot, width, label='Direct')\n",
    "plt.bar(x,         cot_counts_plot,    width, label='CoT')\n",
    "bars = plt.bar(x + width, situation_counts_plot, width, label='Situation', color=situation_colors)\n",
    "\n",
    "# 감소한 부분에 텍스트로 감소량 표시\n",
    "for i, bar in enumerate(bars):\n",
    "    situation_val = situation_counts_plot[i]\n",
    "    max_other = max(direct_counts_plot[i], cot_counts_plot[i])\n",
    "    if situation_val < max_other:\n",
    "        diff = max_other - situation_val\n",
    "        plt.text(bar.get_x() + bar.get_width() / 2, bar.get_height() + 0.5, f'↓{diff}', \n",
    "                 ha='center', va='bottom', color='red', fontsize=9, fontweight='bold')\n",
    "\n",
    "# 스타일 설정\n",
    "plt.ylim(0, 1600)\n",
    "plt.xlabel('Reasoning Type')\n",
    "plt.ylabel('Count')\n",
    "plt.title('Comparison of Reasoning Type Counts (Emphasizing Situation Decline)')\n",
    "plt.xticks(x, labels, rotation=45, ha='right')\n",
    "plt.legend()\n",
    "plt.tight_layout()\n",
    "plt.show()"
   ]
  },
  {
   "cell_type": "code",
   "execution_count": null,
   "id": "334be480",
   "metadata": {},
   "outputs": [
    {
     "data": {
      "image/png": "[encoded data removed]",
      "text/plain": [
       "<Figure size 600x600 with 1 Axes>"
      ]
     },
     "metadata": {},
     "output_type": "display_data"
    }
   ],
   "source": [
    "import matplotlib.pyplot as plt\n",
    "import numpy as np\n",
    "\n",
    "# 최대값 사전 (label: 최대값)\n",
    "max_values = {\n",
    "    'Sufficient Conditional Reasoning': 3072,\n",
    "    'Conjunctive Reasoning': 2755,\n",
    "    'Categorical Reasoning': 1945,\n",
    "    'Necessry Condtional Reasoning': 1301,\n",
    "    'Disjunctive Reasoning': 875\n",
    "}\n",
    "\n",
    "# 모든 레이블 수집\n",
    "labels = sorted(set(direct_counter.keys()) | set(cot_counter.keys()) | set(counter.keys()))\n",
    "\n",
    "# %로 변환된 값 추출\n",
    "direct_percents    = [direct_counter.get(label, 0)    / max_values[label] * 100 for label in labels]\n",
    "cot_percents       = [cot_counter.get(label, 0)       / max_values[label] * 100 for label in labels]\n",
    "situation_percents = [counter.get(label, 0)           / max_values[label] * 100 for label in labels]\n",
    "\n",
    "# 막대 위치\n",
    "x = np.arange(len(labels))\n",
    "width = 0.25\n",
    "\n",
    "# 막대 색상 지정: situation이 더 낮을 경우 강조\n",
    "situation_colors = []\n",
    "for i, label in enumerate(labels):\n",
    "    max_other = max(direct_percents[i], cot_percents[i])\n",
    "    if situation_percents[i] < max_other:\n",
    "        situation_colors.append('red')\n",
    "    else:\n",
    "        situation_colors.append('gray')\n",
    "\n",
    "# 플롯\n",
    "plt.figure(figsize=(6, 6))\n",
    "plt.bar(x - width, direct_percents, width, label='Direct')\n",
    "plt.bar(x,         cot_percents,    width, label='CoT')\n",
    "bars = plt.bar(x + width, situation_percents, width, label='Situation', color=situation_colors)\n",
    "\n",
    "# # 감소한 부분에 텍스트로 퍼센트 차이 표시\n",
    "# for i, bar in enumerate(bars):\n",
    "#     situation_val = situation_percents[i]\n",
    "#     max_other = max(direct_percents[i], cot_percents[i])\n",
    "#     if situation_val < max_other:\n",
    "#         diff = max_other - situation_val\n",
    "#         plt.text(bar.get_x() + bar.get_width() / 2, bar.get_height() + 1, f'↓{diff:.1f}%', \n",
    "#                  ha='center', va='bottom', color='red', fontsize=10, fontweight='bold')\n",
    "\n",
    "# 스타일 설정\n",
    "plt.ylim(30, 50)\n",
    "plt.ylabel('Percentage of Maximum (%)')\n",
    "plt.xlabel('Reasoning Type')\n",
    "# plt.title('Percentage Comparison of Reasoning Type Counts (Emphasizing Situation Decline)')\n",
    "plt.xticks(x, labels, rotation=45, ha='right')\n",
    "plt.legend()\n",
    "plt.grid(axis='y', linestyle='--', alpha=0.3)\n",
    "plt.tight_layout()\n",
    "plt.show()\n"
   ]
  },
  {
   "cell_type": "code",
   "execution_count": null,
   "id": "b204a392",
   "metadata": {},
   "outputs": [
    {
     "data": {
      "image/png": "[encoded data removed]",
      "text/plain": [
       "<Figure size 700x400 with 1 Axes>"
      ]
     },
     "metadata": {},
     "output_type": "display_data"
    }
   ],
   "source": [
    "import matplotlib.pyplot as plt\n",
    "import numpy as np\n",
    "\n",
    "# 최대값 사전 (label: 최대값)\n",
    "max_values = {\n",
    "    'Sufficient Conditional Reasoning': 3072,\n",
    "    'Conjunctive Reasoning': 2755,\n",
    "    'Categorical Reasoning': 1945,\n",
    "    'Necessry Condtional Reasoning': 1301,\n",
    "    'Disjunctive Reasoning': 875\n",
    "}\n",
    "\n",
    "# labels, cot_counter, counter 는 이미 정의되어 있다고 가정\n",
    "labels = sorted(set(cot_counter.keys()) | set(counter.keys()))\n",
    "\n",
    "# 축약된 레이블 매핑\n",
    "short_labels = {\n",
    "    'Sufficient Conditional Reasoning': 'Suff',\n",
    "    'Conjunctive Reasoning': 'Conj',\n",
    "    'Categorical Reasoning': 'Cat',\n",
    "    'Necessry Condtional Reasoning': 'Nec.',\n",
    "    'Disjunctive Reasoning': 'Disj'\n",
    "}\n",
    "shortened_labels = [short_labels[label] for label in labels]\n",
    "\n",
    "# 퍼센트 값 계산\n",
    "cot_percents       = [(1-cot_counter.get(label, 0)       / max_values[label]) * 100 for label in labels]\n",
    "situation_percents = [(1-counter.get(label, 0)           / max_values[label]) * 100 for label in labels]\n",
    "\n",
    "# 기본 폰트 크기 설정\n",
    "plt.rcParams.update({'font.size': 15})\n",
    "\n",
    "# 막대 위치 설정\n",
    "x = np.arange(len(labels))\n",
    "width = 0.3\n",
    "\n",
    "# 색상 지정\n",
    "cot_color = '#7BA87B'\n",
    "situation_colors = [\n",
    "    '#FF968A' if situation_percents[i] >= cot_percents[i] else '#FF968A'\n",
    "    for i in range(len(labels))\n",
    "]\n",
    "\n",
    "# 플롯 생성\n",
    "plt.figure(figsize=(7, 4))\n",
    "plt.bar(x - width/2, cot_percents,       width, label='CoT',       color=cot_color, alpha=0.8,  edgecolor='black', linewidth=1.5)\n",
    "plt.bar(x + width/2, situation_percents, width, label='SiMAgent', color=situation_colors,\n",
    "        edgecolor='black', linewidth=1.5, alpha=1.0,hatch='///')\n",
    "\n",
    "# 스타일 설정\n",
    "plt.ylim(40, 75)\n",
    "plt.ylabel('Error Percentage (%)', fontsize=16)\n",
    "plt.xlabel('Reasoning Type',        fontsize=16)\n",
    "plt.xticks(x, shortened_labels, rotation=0, ha='right', fontsize=14)\n",
    "# plt.title('Error % by Reasoning Type', fontsize=18)\n",
    "plt.legend(fontsize=14)\n",
    "plt.grid(axis='y', linestyle='--', alpha=0.3)\n",
    "plt.tight_layout()\n",
    "plt.show()\n"
   ]
  },
  {
   "cell_type": "code",
   "execution_count": 76,
   "id": "f58c059e",
   "metadata": {},
   "outputs": [
    {
     "data": {
      "image/png": "[encoded data removed]",
      "text/plain": [
       "<Figure size 900x350 with 2 Axes>"
      ]
     },
     "metadata": {},
     "output_type": "display_data"
    }
   ],
   "source": [
    "import matplotlib.pyplot as plt\n",
    "import numpy as np\n",
    "\n",
    "# 데이터 정의\n",
    "reasoning_types = ['Cat', 'Conj', 'Disj', 'Nec', 'Suff']\n",
    "short_labels = ['Cat', 'Conj', 'Disj', 'Nec', 'Suff']\n",
    "\n",
    "# Accuracy percentages\n",
    "standard      = [55.33, 50.49, 50.97, 50.73, 50.52]\n",
    "standard_ours = [64.01, 64.93, 64.22, 64.25, 64.94]\n",
    "cot           = [56.6, 43.62, 42.62, 43.96, 44]\n",
    "cot_ours      = [86, 55.33, 50.26, 63.86, 63.86]\n",
    "\n",
    "x = np.arange(len(reasoning_types))\n",
    "width = 0.35\n",
    "\n",
    "plt.rcParams.update({'font.size': 13})\n",
    "fig, (ax1, ax2) = plt.subplots(1, 2, figsize=(9, 3.5), sharey=True)\n",
    "\n",
    "# --- 왼쪽 플롯: Standard 계열 ---\n",
    "bars1 = ax1.bar(x - width/2, standard,      width, label='Standard',      color='#FFEAE7', edgecolor='black', linewidth=1.2)\n",
    "bars2 = ax1.bar(x + width/2, standard_ours, width, label='Standard+SituW', color='#FF968A', edgecolor='black', linewidth=1.2, hatch='\\\\\\\\\\\\')\n",
    "ax1.set_xticks(x)\n",
    "ax1.set_xticklabels(short_labels, rotation=0)\n",
    "ax1.set_ylabel(\"Acc (%)\")\n",
    "ax1.set_ylim(40, 90)\n",
    "ax1.grid(axis='y', linestyle='--', alpha=0.4)\n",
    "ax1.legend()\n",
    "\n",
    "# 정확도 상승분 표기 (Standard)\n",
    "for i in range(len(standard)):\n",
    "    diff = standard_ours[i] - standard[i]\n",
    "    ax1.text(x[i] + width/2, standard_ours[i] + 1, f\"+{diff:.1f}\", ha='center', va='bottom', color='red', fontsize=11)\n",
    "\n",
    "# --- 오른쪽 플롯: CoT 계열 ---\n",
    "bars3 = ax2.bar(x - width/2, cot,      width, label='CoT',      color='#D3E1D3', edgecolor='black', linewidth=1.2)\n",
    "bars4 = ax2.bar(x + width/2, cot_ours, width, label='CoT+SituW', color='#7BA87B', edgecolor='black', linewidth=1.2, hatch='///')\n",
    "ax2.set_xticks(x)\n",
    "ax2.set_xticklabels(short_labels, rotation=0)\n",
    "ax2.grid(axis='y', linestyle='--', alpha=0.4)\n",
    "ax2.legend()\n",
    "\n",
    "# 정확도 상승분 표기 (CoT)\n",
    "for i in range(len(cot)):\n",
    "    diff = cot_ours[i] - cot[i]\n",
    "    ax2.text(x[i] + width/2, cot_ours[i] + 1, f\"+{diff:.1f}\", ha='center', va='bottom', color='red', fontsize=11)\n",
    "\n",
    "plt.tight_layout()\n",
    "plt.show()\n"
   ]
  },
  {
   "cell_type": "markdown",
   "id": "012480c2",
   "metadata": {},
   "source": [
    "Mixed eval"
   ]
  },
  {
   "cell_type": "code",
   "execution_count": null,
   "id": "1eed6f74",
   "metadata": {},
   "outputs": [],
   "source": [
    "import json\n",
    "\n",
    "with open('/data3/KJE/code/WIL_DeepLearningProject_2/NS_Parser/SITUM_EMNLP/outputs/Ours_CoT_logiqa_test_gpt-3.5-turbo_suffle_2.json', 'r') as f :\n",
    "    mix_our_data = json.load(f) \n",
    "\n",
    "with open('/data3/KJE/code/WIL_DeepLearningProject_2/NS_Parser/SITUM_EMNLP/outputs/CoT_logiqa_test_gpt-3.5-turbo_suffle_2.json', 'r') as f :\n",
    "    mix_cot_dta = json.load(f) "
   ]
  },
  {
   "cell_type": "code",
   "execution_count": 22,
   "id": "6e693b4a",
   "metadata": {},
   "outputs": [
    {
     "data": {
      "text/plain": [
       "'A**'"
      ]
     },
     "execution_count": 22,
     "metadata": {},
     "output_type": "execute_result"
    }
   ],
   "source": [
    "mix_our_data[0]['predicted_answer']"
   ]
  },
  {
   "cell_type": "code",
   "execution_count": 23,
   "id": "dcff7f10",
   "metadata": {},
   "outputs": [],
   "source": [
    "mix_our_data_correct = 0\n",
    "\n",
    "mix_our_data_fail_case =[]\n",
    "for d in mix_our_data:\n",
    "    if d['answer'] == 'entailment':\n",
    "        gt = 'a'\n",
    "    else:\n",
    "        gt = 'b'\n",
    "\n",
    "    if gt in d['predicted_answer'].lower():\n",
    "        mix_our_data_correct += 1 \n",
    "    else:\n",
    "        mix_our_data_fail_case.append(d)\n"
   ]
  },
  {
   "cell_type": "code",
   "execution_count": 14,
   "id": "ea74a827",
   "metadata": {},
   "outputs": [],
   "source": [
    "mix_cot_dta_correct = 0\n",
    "\n",
    "mix_cot_dta_fail_case =[]\n",
    "for d in mix_cot_dta:\n",
    "    # print(d['predicted_answer'])\n",
    "    if d['answer'] == 'entailment':\n",
    "        gt = 'a'\n",
    "    else:\n",
    "        gt = 'b'\n",
    "\n",
    "    if gt in d['predicted_answer'].lower():\n",
    "        mix_cot_dta_correct += 1 \n",
    "    else:\n",
    "        mix_cot_dta_fail_case.append(d)"
   ]
  },
  {
   "cell_type": "code",
   "execution_count": 24,
   "id": "d742fc52",
   "metadata": {},
   "outputs": [
    {
     "data": {
      "text/plain": [
       "0.5770897832817338"
      ]
     },
     "execution_count": 24,
     "metadata": {},
     "output_type": "execute_result"
    }
   ],
   "source": [
    "mix_our_data_correct/len(mix_our_data) "
   ]
  },
  {
   "cell_type": "code",
   "execution_count": 20,
   "id": "0aa630f4",
   "metadata": {},
   "outputs": [
    {
     "data": {
      "text/plain": [
       "{'id': 7609,\n",
       " 'questtion': \"Assuming that three of the four sentences the teacher said are true and one is false, the correct option is 'Left hand fruit candy, right hand toffee'.\",\n",
       " 'original_context': 'Then the teacher said four things:.There are two kinds of fruit candy and toffee in the jar.The kindergarten teacher put his hands into the jar, and then clenched his fists to take out a piece of candies.4. Both the left hand and the right hand are fruit candies.3. If the left hand is fruit candies, then the right hand is not fruit candies.2. Or the left hand is fruit candies, or fruit candies on the right hand.1. The right hand is definitely not fruit candy.',\n",
       " 'reasoning': '**Final Answer: B**',\n",
       " 'predicted_answer': 'B**',\n",
       " 'answer': 'entailment',\n",
       " 'predicted_choice': 'No final answer found in the text.',\n",
       " 'time_cost': 2.2959978580474854}"
      ]
     },
     "execution_count": 20,
     "metadata": {},
     "output_type": "execute_result"
    }
   ],
   "source": [
    "mix_cot_dta_fail_case[0]"
   ]
  },
  {
   "cell_type": "code",
   "execution_count": 18,
   "id": "d5e9f6d9",
   "metadata": {},
   "outputs": [
    {
     "ename": "TypeError",
     "evalue": "'module' object is not callable",
     "output_type": "error",
     "traceback": [
      "\u001b[0;31m---------------------------------------------------------------------------\u001b[0m",
      "\u001b[0;31mTypeError\u001b[0m                                 Traceback (most recent call last)",
      "Cell \u001b[0;32mIn[18], line 3\u001b[0m\n\u001b[1;32m      1\u001b[0m \u001b[38;5;28;01mimport\u001b[39;00m \u001b[38;5;21;01mtqdm\u001b[39;00m\n\u001b[1;32m      2\u001b[0m our_mixed_failcase_answer \u001b[38;5;241m=\u001b[39m []\n\u001b[0;32m----> 3\u001b[0m \u001b[38;5;28;01mfor\u001b[39;00m d \u001b[38;5;129;01min\u001b[39;00m \u001b[43mtqdm\u001b[49m\u001b[43m(\u001b[49m\u001b[43mmix_cot_dta_fail_case\u001b[49m\u001b[43m)\u001b[49m:\n\u001b[1;32m      4\u001b[0m     \u001b[38;5;28mid\u001b[39m \u001b[38;5;241m=\u001b[39m d[\u001b[38;5;124m'\u001b[39m\u001b[38;5;124mid\u001b[39m\u001b[38;5;124m'\u001b[39m]\n\u001b[1;32m      5\u001b[0m     \u001b[38;5;28;01mfor\u001b[39;00m ans \u001b[38;5;129;01min\u001b[39;00m answer_file:\n",
      "\u001b[0;31mTypeError\u001b[0m: 'module' object is not callable"
     ]
    }
   ],
   "source": [
    "import tqdm\n",
    "our_mixed_failcase_answer = []\n",
    "for d in tqdm(mix_cot_dta_fail_case):\n",
    "    id = d['id']\n",
    "    for ans in answer_file:\n",
    "        cot_id = ans['id']\n",
    "        if id == cot_id and d['questtion'] == ans['hypothesis']:\n",
    "            our_mixed_failcase_answer.append(ans)\n",
    "            break"
   ]
  }
 ],
 "metadata": {
  "kernelspec": {
   "display_name": "parser",
   "language": "python",
   "name": "python3"
  },
  "language_info": {
   "codemirror_mode": {
    "name": "ipython",
    "version": 3
   },
   "file_extension": ".py",
   "mimetype": "text/x-python",
   "name": "python",
   "nbconvert_exporter": "python",
   "pygments_lexer": "ipython3",
   "version": "3.10.16"
  }
 },
 "nbformat": 4,
 "nbformat_minor": 5
}
