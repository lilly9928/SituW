{
 "cells": [
  {
   "cell_type": "code",
   "execution_count": 1,
   "id": "ed1c8a65",
   "metadata": {},
   "outputs": [],
   "source": [
    "import json \n",
    "import os \n",
    "\n",
    "data_path = '/data3/KJE/code/WIL_DeepLearningProject_2/SituationMemory/data/Dialog/MSC'\n",
    "data_name = 'sequential_test.json'\n",
    "test_num = 501\n",
    "\n",
    "with open(os.path.join(data_path, data_name), 'r') as f:\n",
    "            dataset = json.load(f)\n",
    "            if test_num > 0:\n",
    "                dataset = dataset[:test_num]\n"
   ]
  },
  {
   "cell_type": "code",
   "execution_count": 2,
   "id": "b263c6b0",
   "metadata": {},
   "outputs": [
    {
     "data": {
      "text/plain": [
       "501"
      ]
     },
     "execution_count": 2,
     "metadata": {},
     "output_type": "execute_result"
    }
   ],
   "source": [
    "len(dataset)"
   ]
  },
  {
   "cell_type": "code",
   "execution_count": 3,
   "id": "a2ee070e",
   "metadata": {},
   "outputs": [
    {
     "data": {
      "text/plain": [
       "(501, 5)"
      ]
     },
     "execution_count": 3,
     "metadata": {},
     "output_type": "execute_result"
    }
   ],
   "source": [
    "len(dataset) , len(dataset[0]) #에피소드, 섹션 "
   ]
  },
  {
   "cell_type": "code",
   "execution_count": 4,
   "id": "cf476372",
   "metadata": {},
   "outputs": [],
   "source": [
    "sample_episod= dataset[0]\n",
    "current_time_pass = sample_episod[0]['time_pass']\n",
    "short_term_memory = []\n",
    "one_hour_seconds = 60 * 60\n"
   ]
  },
  {
   "cell_type": "code",
   "execution_count": 9,
   "id": "52344fef",
   "metadata": {},
   "outputs": [
    {
     "data": {
      "text/plain": [
       "5"
      ]
     },
     "execution_count": 9,
     "metadata": {},
     "output_type": "execute_result"
    }
   ],
   "source": [
    "len(sample_episod)"
   ]
  },
  {
   "cell_type": "code",
   "execution_count": 18,
   "id": "aff9e676",
   "metadata": {},
   "outputs": [
    {
     "name": "stdout",
     "output_type": "stream",
     "text": [
      "SPEAKER1:  What kind of car do you own? I have a jeep.\n",
      "SPEAKER2:  I don't own my own car! I actually really enjoying walking and running, but then again, I live in a small town and semi-close to work.\n",
      "SPEAKER1:  Ah I see! I like going to the gym to work out.\n",
      "SPEAKER2:  I'm a computer programmer. What do you do for work.\n",
      "SPEAKER1:  I work in marketing. Do you have any hobbies?\n",
      "SPEAKER2:  I love to grill! I love meat, especially steak.\n",
      "SPEAKER1:  Oh neat! I don't eat meat but I do like some grilled veggies.\n",
      "SPEAKER2:  My family is from alaska. Where are you from?\n",
      "SPEAKER1:  I'm from new england. It must be cold up there.\n",
      "SPEAKER2:  It's so cold! I think thats why I love wearing warm pants!\n",
      "SPEAKER1:  Haha I feel you. I love wearin warm pants in the winter.\n",
      "SPEAKER2:  Do you play any sports?\n",
      "\n",
      "\n",
      "SPEAKER1:  Did you manage to go out on a run today?\n",
      "SPEAKER2:  Yes I actually was able too. I am considering joining the local gym. Do you prefer going to the gym?\n",
      "SPEAKER1:  I do actually.  I like the controlled environment. I don't want to have to depend on the weather consider where I live.  \n",
      "SPEAKER2:  Thats why i am thinking about it. I hate to have to run when its raining, and I feel like it rains here all the time. \n",
      "SPEAKER1:  A lot of gyms have tracks so that you can run indoors.  Hey, have you thought about maybe buying a treadmill and using that at home?\n",
      "SPEAKER2:  I am defiantly considering getting one. Im just trying to figure out what i would do more. Go to the gym and actually do more than just running, or sticking to what i know and getting a treadmill. \n",
      "SPEAKER1:  Oh, that's true. I hadn't thought about all of that.  You're right. With a gym there is a whole lot of options for what you can do.  Do you have some good gyms near you?\n",
      "SPEAKER2:  They have just built one in the small town really close to me and it looks pretty decent. Before that it was like an hour drive. \n",
      "SPEAKER1:  With you not owning a car going to any others would probably be difficult.  Well, do you have any good parks and running trails nearby?\n",
      "SPEAKER2:  Yeah exactly. There is a super nice little running trail that is pretty decent.  \n",
      "SPEAKER1:  Hey, do you run with anyone?  I mean, have you joined a club or will you if you haven't?\n",
      "SPEAKER2:  There is any around here maybe i could start one. Thank you for that idea. \n",
      "\n",
      "\n",
      "SPEAKER1:  Did you check out that new gym in town?\n",
      "SPEAKER2:  Yeah, I did. I'm not sure I like the vibe there, though. \n",
      "SPEAKER1:  What was wrong with it?\n",
      "SPEAKER2:  The folks there seemed to care more about how they looked than working out. It was a little too trendy for me. I'm pretty plain.\n",
      "SPEAKER1:  Ah, got it. Well, maybe one of the older gyms will work out better for you - or I guess you could get that treadmill you were talking about before. Are you leaning one way or the other yet?\n",
      "SPEAKER2:  I'm leaning towards the treadmill. I think it will work better for my lifestyle. I just don't know which type to get. There are so many choices out there. Do you use a treadmill at your gym? Do you have a suggestion for a home one?\n",
      "SPEAKER1:  I usually just lift weights there to be honest. But I think I've heard good things about the NordicTrack?\n",
      "SPEAKER2:  Yeah, I've heard good things about that, too. I like the idea of a multi-exercise piece of equipment. As long as the weather isn't too bad, then I prefer to go for a run. But since it rains quite a bit here, I like the idea of an inside option. How is the weather in New England?\n",
      "SPEAKER1:  Oh, it can pretty foggy and rainy here too I'm afraid. But as I'm sure you've heard, it's really beautiful in the fall! Are there four distinct seasons where you are, too?\n",
      "SPEAKER2:  Yes, I've heard about the fall colors. I may get there one day. Yes, we have seasons, rain, lighter rain, summer, and more rain! Ha!\n",
      "SPEAKER1:  Haha! I lived overseas in the tropics once. Sounds just like it!\n",
      "SPEAKER2:  The tropics sound great. It's not as warm as the tropics, but I like it. I'm from Alaska, so I'm pretty weather-tough.\n",
      "\n",
      "\n",
      "SPEAKER1:  Any luck with the search for a new gym?\n",
      "SPEAKER2:  Yes, I am joining the one near me. It is open 24 hours so I can go whenever I want. Have you kept up with going to the gym?\n",
      "SPEAKER1:  Oh nice! Is it new or just been hiding under the radar? I just did an arm day at the gym yesterday!\n",
      "SPEAKER2:  This is a new gym, I am looking forward to getting into shape. Do you have a workout partner or do you workout by yourself?\n",
      "SPEAKER1:  I am sure you don't have a long way to go with all that running you do. I work out alone. I like the solitude at the gym. There are other people but I can zone out and it is just me and my weights.\n",
      "SPEAKER2:  I am the same way, I prefer to workout alone. So how is your job going?\n",
      "SPEAKER1:  Eh. It is fine. Nothing all that interesting, but it pays the bills. What about you? Enjoying the programming life?\n",
      "SPEAKER2:  I still like what I do but I am getting tired of sitting in front of the computer all day, especially with the beautiful summer weather.\n",
      "SPEAKER1:  Sounds like you have a good mix between work and being outdoors, but I guess the rain gets in the way? When do you think you will sign up at the new gym? Maybe that will help you feel better.\n",
      "SPEAKER2:  I am signing up later today. I am able to get outdoors after work but it would be nice to spend daytime hours outside. Do you spend much time outdoors?\n",
      "SPEAKER1:  Have you asked if they can make your schedule more flexible? \n",
      "SPEAKER2:  No, we are an 8-5 organization so I need to be available throughout the day.\n",
      "\n",
      "\n",
      "SPEAKER1:  How did it go with the gym signup?\n",
      "SPEAKER2:  It went pretty well. It actually went better than I expected.  Signing up for the gym is just step one.\n",
      "SPEAKER1:  Congratulations!  As you mentioned, you have taken the first step towards getting fit.  You know, even though we both prefer to work out alone, it is nice to work out at the gym and see how others are also working towards the same goal:  staying fit.\n",
      "SPEAKER2:  I agree.  I saw everyone working out alone, yet with others around , so it did look like my kind of scene. Aside from lifting weights, what else do you do at the gym?\n",
      "SPEAKER1:  I go to the gym at least five times a week, and I lift weights at least three of those days.  When I need to give my arms a break, I work on my leg muscles.  I run around the track or just ride the stationary exercise bicycle.  \n",
      "SPEAKER2:  That sounds like a good plan.  I definitely need to add some weights to my routine.  I will be on the treadmills a lot, especially since it is hard for me to run outdoors daily due to the weather.\n",
      "SPEAKER1:  It seems like you're definitely on the right track towards getting fit.  You know, you may want to start a fitness journal to keep track of your progress.  That will make you accountable to work out regularly, and you will be pleased to see your progress.  I started a journal when I first started working out.  It has been a great motivation.\n",
      "SPEAKER2:  Journaling is an excellent idea! I never thought to document my workout progress before. Do you journal on the days you don't work out? \n",
      "SPEAKER1:  I have not written in my journal on the days that I don't work out.  But you know, I think I'll begin doing so.  That way, I can compare the way I feel on days that I work out, versus days that I don't work out.  Now tell me, how's it going with your treadmill search?  Any good products out there you may be considering?\n",
      "SPEAKER2:  That's exactly what I was thinking about,  Looking back on the days I journal I can gain more insight into how exercise is really impacting my life.  I decided against getting the treadmill since I'll be using the one at the gym.  I think that will be good enough since the gym has several treadmills to choose from.\n",
      "SPEAKER1:  Good thinking.  Not purchasing a treadmill now will save you some money, and you'll be more motivated to go to the gym since you won't have exercise equipment at home.  What other things do you like to grill on sunny days other than steak?  Do you get some good salmon up in Alaska?\n",
      "SPEAKER2:  Oh, I love salmon, and it is pretty good here. Steak is about the only thing I really like to grill though.  I know you don't eat meat, but do you eat seafood? \n",
      "\n",
      "\n"
     ]
    }
   ],
   "source": [
    "for session in sample_episod:\n",
    "    for chat in session['dialog']:\n",
    "        print('SPEAKER1: ', chat['SPEAKER_1'])\n",
    "        print('SPEAKER2: ', chat['SPEAKER_2'])\n",
    "    print('\\n')"
   ]
  },
  {
   "cell_type": "code",
   "execution_count": 25,
   "id": "cdb1f616",
   "metadata": {},
   "outputs": [
    {
     "data": {
      "text/plain": [
       "3600"
      ]
     },
     "execution_count": 25,
     "metadata": {},
     "output_type": "execute_result"
    }
   ],
   "source": [
    "current_time_pass"
   ]
  },
  {
   "cell_type": "code",
   "execution_count": 23,
   "id": "d70eb018",
   "metadata": {},
   "outputs": [],
   "source": [
    "import time\n",
    "\n",
    "dial = sample_episod[0]['dialog']\n",
    "current_time = time.time() + current_time_pass\n",
    "\n",
    "if (len(short_term_memory) > 0) and (current_time - short_term_memory[-1]['time']) > one_hour_seconds:\n",
    "    last_session_context = [f\"(line {context_ids + 1}) \" + f\"{context_memory['dialog']}.\" for context_ids, context_memory in enumerate(short_term_memory)]"
   ]
  },
  {
   "cell_type": "code",
   "execution_count": null,
   "id": "441d636f",
   "metadata": {},
   "outputs": [
    {
     "ename": "IndentationError",
     "evalue": "expected an indented block (1147962684.py, line 2)",
     "output_type": "error",
     "traceback": [
      "\u001b[0;36m  Cell \u001b[0;32mIn[14], line 2\u001b[0;36m\u001b[0m\n\u001b[0;31m    for idx, dial in enumerate(sample_episod[session_num]['dialog']):\u001b[0m\n\u001b[0m                                                                     ^\u001b[0m\n\u001b[0;31mIndentationError\u001b[0m\u001b[0;31m:\u001b[0m expected an indented block\n"
     ]
    }
   ],
   "source": [
    "import time\n",
    "session_num = 0\n",
    "for idx, dial in enumerate(sample_episod[session_num]['dialog']):\n",
    "    current_time = time.time() + current_time_pass"
   ]
  },
  {
   "cell_type": "code",
   "execution_count": 9,
   "id": "8a7bd004",
   "metadata": {},
   "outputs": [],
   "source": [
    "import chromadb\n",
    "from chromadb.utils.embedding_functions import OpenCLIPEmbeddingFunction, DefaultEmbeddingFunction\n",
    "from chromadb.utils.data_loaders import ImageLoader\n",
    "\n",
    "dbclient = chromadb.Client()\n",
    "embedding_function = DefaultEmbeddingFunction()\n",
    "data_loader = ImageLoader()\n"
   ]
  },
  {
   "cell_type": "code",
   "execution_count": 10,
   "id": "13181e41",
   "metadata": {},
   "outputs": [],
   "source": [
    "collection = dbclient.create_collection(\n",
    "    name=f\"collection_{1}\", \n",
    "    embedding_function=embedding_function, \n",
    "    data_loader=data_loader,\n",
    "    get_or_create=(None != None))\n"
   ]
  },
  {
   "cell_type": "code",
   "execution_count": null,
   "id": "f619d420",
   "metadata": {},
   "outputs": [
    {
     "ename": "NameError",
     "evalue": "name 'ids' is not defined",
     "output_type": "error",
     "traceback": [
      "\u001b[0;31m---------------------------------------------------------------------------\u001b[0m",
      "\u001b[0;31mNameError\u001b[0m                                 Traceback (most recent call last)",
      "Cell \u001b[0;32mIn[11], line 2\u001b[0m\n\u001b[1;32m      1\u001b[0m collection\u001b[38;5;241m.\u001b[39madd(\n\u001b[0;32m----> 2\u001b[0m     ids\u001b[38;5;241m=\u001b[39m\u001b[43mids\u001b[49m,\n\u001b[1;32m      3\u001b[0m     documents\u001b[38;5;241m=\u001b[39mkey, \u001b[38;5;66;03m# A list of strings representing texts\u001b[39;00m\n\u001b[1;32m      4\u001b[0m     metadatas\u001b[38;5;241m=\u001b[39mmetadata\n\u001b[1;32m      5\u001b[0m     )\n",
      "\u001b[0;31mNameError\u001b[0m: name 'ids' is not defined"
     ]
    }
   ],
   "source": [
    "#self, ids, key, metadata, datatype='text'\n",
    "#self.store(self.collection.count(), merged_nouns_str, MetaData(idx = self.collection.count(), \n",
    "# dialog=\"\", time = self.short_term_memory[-1]['time'], topics=merged_nouns_str,\n",
    "# datatype='text', summary=last_session_summary).to_dict(), datatype='text')\n",
    "\n",
    "collection.add(\n",
    "    ids=collection.count(),\n",
    "    documents=\"\", # A list of strings representing texts\n",
    "    metadatas=metadata\n",
    "    )\n"
   ]
  },
  {
   "cell_type": "code",
   "execution_count": 19,
   "id": "3bd8b1da",
   "metadata": {},
   "outputs": [
    {
     "name": "stdout",
     "output_type": "stream",
     "text": [
      "Apple Apple PROPN NNP nsubj Xxxxx True False\n",
      "is be AUX VBZ aux xx True True\n",
      "looking look VERB VBG ROOT xxxx True False\n",
      "at at ADP IN prep xx True True\n",
      "buying buy VERB VBG pcomp xxxx True False\n",
      "U.K. U.K. PROPN NNP nsubj X.X. False False\n",
      "startup startup VERB VBD ccomp xxxx True False\n",
      "for for ADP IN prep xxx True True\n",
      "$ $ SYM $ quantmod $ False False\n",
      "1 1 NUM CD compound d False False\n",
      "billion billion NUM CD pobj xxxx True False\n"
     ]
    }
   ],
   "source": [
    "import spacy\n",
    "\n",
    "nlp = spacy.load(\"en_core_web_sm\")\n",
    "doc = nlp(\"Apple is looking at buying U.K. startup for $1 billion\")\n",
    "\n",
    "for token in doc:\n",
    "    print(token.text, token.lemma_, token.pos_, token.tag_, token.dep_,\n",
    "            token.shape_, token.is_alpha, token.is_stop)\n"
   ]
  },
  {
   "cell_type": "code",
   "execution_count": null,
   "id": "edb41b4d",
   "metadata": {},
   "outputs": [],
   "source": [
    "self.collection.query(query_texts=['speaker_2'],n_results = 2,where=None)"
   ]
  },
  {
   "cell_type": "code",
   "execution_count": null,
   "id": "631e5c2a",
   "metadata": {},
   "outputs": [],
   "source": [
    "sys_prompt = f\"\"\"You are good at extracting events and summarizing them in brief sentences. You will be shown a conversation between {self.usr_name} and {self.agent_name}.\\n\"\"\"\n",
    "\n",
    "user_prompt = f\"\"\"#Conversation#:\\n{context}.\\n\"\"\" \\\n",
    "+ f\"\"\"Based on the Conversation, please summarize the main points of the conversation with brief sentences in English, within 20 words.\\nSUMMARY:\"\"\"  \n"
   ]
  }
 ],
 "metadata": {
  "kernelspec": {
   "display_name": "agent2",
   "language": "python",
   "name": "python3"
  },
  "language_info": {
   "codemirror_mode": {
    "name": "ipython",
    "version": 3
   },
   "file_extension": ".py",
   "mimetype": "text/x-python",
   "name": "python",
   "nbconvert_exporter": "python",
   "pygments_lexer": "ipython3",
   "version": "3.9.23"
  }
 },
 "nbformat": 4,
 "nbformat_minor": 5
}
