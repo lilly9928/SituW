{
 "cells": [
  {
   "cell_type": "code",
   "execution_count": 1,
   "id": "66c3e280",
   "metadata": {},
   "outputs": [
    {
     "name": "stdout",
     "output_type": "stream",
     "text": [
      "Nodes with attributes:\n",
      "e1: {'time': '2025-05-18T00:00:00', 'space': None, 'entities': {'agent': 'moviegoers', 'patient': 'spoilers'}, 'causation': None, 'motivation': 'they seek plot information', 'text': \"Moviegoers don't mind being spoiled by spoilers.\"}\n",
      "e2: {'time': '2025-05-18T00:01:00', 'space': None, 'entities': {'agent': 'moviegoers', 'patient': 'plot introductions'}, 'causation': 'e1', 'motivation': 'they want to know the story beforehand', 'text': 'They inquire about plot introductions.'}\n",
      "e3: {'time': '2025-05-18T00:02:00', 'space': None, 'entities': {'agent': 'moviegoers', 'patient': 'movies'}, 'causation': 'e2', 'motivation': 'they like to review in advance', 'text': 'They review all kinds of movies in advance.'}\n",
      "e4: {'time': '2025-05-18T00:03:00', 'space': None, 'entities': {'agent': 'moviegoers', 'patient': 'plot development'}, 'causation': None, 'motivation': 'they pursue control over the story', 'text': 'They pursue the feeling of controlling the development of the plot.'}\n",
      "e5: {'time': '2025-05-18T00:04:00', 'space': None, 'entities': {'agent': 'moviegoers', 'patient': 'surprises'}, 'causation': 'e4', 'motivation': \"they don't like surprises\", 'text': \"They don't like surprises.\"}\n",
      "\n",
      "Edges:\n",
      "e1 -> e2  (relation=temporal)\n",
      "e1 -> e3  (relation=temporal)\n",
      "e1 -> e4  (relation=temporal)\n",
      "e1 -> e5  (relation=temporal)\n",
      "e2 -> e3  (relation=temporal)\n",
      "e2 -> e4  (relation=temporal)\n",
      "e2 -> e5  (relation=temporal)\n",
      "e3 -> e4  (relation=temporal)\n",
      "e3 -> e5  (relation=temporal)\n",
      "e4 -> e5  (relation=temporal)\n"
     ]
    }
   ],
   "source": [
    "import networkx as nx\n",
    "from datetime import datetime\n",
    "\n",
    "class EventGraph:\n",
    "    def __init__(self):\n",
    "        self.G = nx.DiGraph()\n",
    "\n",
    "    def add_event(self, ev: dict):\n",
    "        \"\"\"\n",
    "        Add a new event and its causal/temporal edges.\n",
    "        \"\"\"\n",
    "        eid = ev[\"id\"]\n",
    "        # 1) add node with all attributes\n",
    "        self.G.add_node(eid,\n",
    "                        time=ev[\"time\"],\n",
    "                        space=ev.get(\"space\"),\n",
    "                        entities=ev.get(\"entities\"),\n",
    "                        causation=ev.get(\"causation\"),\n",
    "                        motivation=ev.get(\"motivation\"),\n",
    "                        text=ev[\"text\"])\n",
    "        # 2) causal edge, if any\n",
    "        parent = ev.get(\"causation\")\n",
    "        if parent and parent in self.G:\n",
    "            self.G.add_edge(parent, eid, relation=\"causal\")\n",
    "        # 3) temporal edges vs. existing events\n",
    "        t_new = datetime.fromisoformat(ev[\"time\"])\n",
    "        for other in self.G.nodes():\n",
    "            if other == eid:\n",
    "                continue\n",
    "            t_other = datetime.fromisoformat(self.G.nodes[other][\"time\"])\n",
    "            if t_other < t_new:\n",
    "                self.G.add_edge(other, eid, relation=\"temporal\")\n",
    "            elif t_other > t_new:\n",
    "                self.G.add_edge(eid, other, relation=\"temporal\")\n",
    "\n",
    "# --- Example with given “premise” ---\n",
    "\n",
    "premise = (\n",
    "    \"Screenwriter moviegoers are those who don't mind being spoiled by spoilers \"\n",
    "    \"and even inquire about plot introductions and review all kinds of movies in advance. \"\n",
    "    \"This kind of moviegoers pursue the feeling of controlling the development of the plot \"\n",
    "    \"and don't like surprises.\"\n",
    ")\n",
    "\n",
    "# Manually extract events from the premise:\n",
    "events = [\n",
    "    {\n",
    "        \"id\": \"e1\",\n",
    "        \"time\": \"2025-05-18T00:00:00\",\n",
    "        \"space\": None,\n",
    "        \"entities\": {\"agent\": \"moviegoers\", \"patient\": \"spoilers\"},\n",
    "        \"causation\": None,\n",
    "        \"motivation\": \"they seek plot information\",\n",
    "        \"text\": \"Moviegoers don't mind being spoiled by spoilers.\"\n",
    "    },\n",
    "    {\n",
    "        \"id\": \"e2\",\n",
    "        \"time\": \"2025-05-18T00:01:00\",\n",
    "        \"space\": None,\n",
    "        \"entities\": {\"agent\": \"moviegoers\", \"patient\": \"plot introductions\"},\n",
    "        \"causation\": \"e1\",\n",
    "        \"motivation\": \"they want to know the story beforehand\",\n",
    "        \"text\": \"They inquire about plot introductions.\"\n",
    "    },\n",
    "    {\n",
    "        \"id\": \"e3\",\n",
    "        \"time\": \"2025-05-18T00:02:00\",\n",
    "        \"space\": None,\n",
    "        \"entities\": {\"agent\": \"moviegoers\", \"patient\": \"movies\"},\n",
    "        \"causation\": \"e2\",\n",
    "        \"motivation\": \"they like to review in advance\",\n",
    "        \"text\": \"They review all kinds of movies in advance.\"\n",
    "    },\n",
    "    {\n",
    "        \"id\": \"e4\",\n",
    "        \"time\": \"2025-05-18T00:03:00\",\n",
    "        \"space\": None,\n",
    "        \"entities\": {\"agent\": \"moviegoers\", \"patient\": \"plot development\"},\n",
    "        \"causation\": None,\n",
    "        \"motivation\": \"they pursue control over the story\",\n",
    "        \"text\": \"They pursue the feeling of controlling the development of the plot.\"\n",
    "    },\n",
    "    {\n",
    "        \"id\": \"e5\",\n",
    "        \"time\": \"2025-05-18T00:04:00\",\n",
    "        \"space\": None,\n",
    "        \"entities\": {\"agent\": \"moviegoers\", \"patient\": \"surprises\"},\n",
    "        \"causation\": \"e4\",\n",
    "        \"motivation\": \"they don't like surprises\",\n",
    "        \"text\": \"They don't like surprises.\"\n",
    "    },\n",
    "]\n",
    "\n",
    "# Build the graph\n",
    "eg = EventGraph()\n",
    "for ev in events:\n",
    "    eg.add_event(ev)\n",
    "\n",
    "# Inspect nodes and edges\n",
    "print(\"Nodes with attributes:\")\n",
    "for nid, attrs in eg.G.nodes(data=True):\n",
    "    print(f\"{nid}: {attrs}\")\n",
    "\n",
    "print(\"\\nEdges:\")\n",
    "for u, v, d in eg.G.edges(data=True):\n",
    "    print(f\"{u} -> {v}  (relation={d['relation']})\")\n"
   ]
  },
  {
   "cell_type": "code",
   "execution_count": 1,
   "id": "34877645",
   "metadata": {},
   "outputs": [
    {
     "data": {
      "application/vnd.jupyter.widget-view+json": {
       "model_id": "97081626caf34c4fa05b2e7be7060787",
       "version_major": 2,
       "version_minor": 0
      },
      "text/plain": [
       "model.safetensors:  10%|9         | 241M/2.47G [00:00<?, ?B/s]"
      ]
     },
     "metadata": {},
     "output_type": "display_data"
    },
    {
     "data": {
      "application/vnd.jupyter.widget-view+json": {
       "model_id": "9b35e8134d2d4104bd829ec3e24d8721",
       "version_major": 2,
       "version_minor": 0
      },
      "text/plain": [
       "generation_config.json:   0%|          | 0.00/185 [00:00<?, ?B/s]"
      ]
     },
     "metadata": {},
     "output_type": "display_data"
    },
    {
     "data": {
      "application/vnd.jupyter.widget-view+json": {
       "model_id": "c344e489cc454110a61b7d0d0e4992bd",
       "version_major": 2,
       "version_minor": 0
      },
      "text/plain": [
       "tokenizer_config.json:   0%|          | 0.00/50.5k [00:00<?, ?B/s]"
      ]
     },
     "metadata": {},
     "output_type": "display_data"
    },
    {
     "data": {
      "application/vnd.jupyter.widget-view+json": {
       "model_id": "593f4e87f09e4c2d81ed6f38658c84aa",
       "version_major": 2,
       "version_minor": 0
      },
      "text/plain": [
       "tokenizer.json:   0%|          | 0.00/9.09M [00:00<?, ?B/s]"
      ]
     },
     "metadata": {},
     "output_type": "display_data"
    },
    {
     "data": {
      "application/vnd.jupyter.widget-view+json": {
       "model_id": "5109de88cf014e3aaf0ce68d20333356",
       "version_major": 2,
       "version_minor": 0
      },
      "text/plain": [
       "special_tokens_map.json:   0%|          | 0.00/301 [00:00<?, ?B/s]"
      ]
     },
     "metadata": {},
     "output_type": "display_data"
    },
    {
     "name": "stderr",
     "output_type": "stream",
     "text": [
      "Device set to use cuda:0\n"
     ]
    },
    {
     "ename": "ValueError",
     "evalue": "The following `model_kwargs` are not used by the model: ['cache_dir'] (note: typos in the generate arguments will also show up in this list)",
     "output_type": "error",
     "traceback": [
      "\u001b[0;31m---------------------------------------------------------------------------\u001b[0m",
      "\u001b[0;31mValueError\u001b[0m                                Traceback (most recent call last)",
      "Cell \u001b[0;32mIn[1], line 80\u001b[0m\n\u001b[1;32m     72\u001b[0m premise \u001b[38;5;241m=\u001b[39m (\n\u001b[1;32m     73\u001b[0m     \u001b[38;5;124m\"\u001b[39m\u001b[38;5;124mScreenwriter moviegoers are those who don\u001b[39m\u001b[38;5;124m'\u001b[39m\u001b[38;5;124mt mind being spoiled by spoilers \u001b[39m\u001b[38;5;124m\"\u001b[39m\n\u001b[1;32m     74\u001b[0m     \u001b[38;5;124m\"\u001b[39m\u001b[38;5;124mand even inquire about plot introductions and review all kinds of movies in advance. \u001b[39m\u001b[38;5;124m\"\u001b[39m\n\u001b[1;32m     75\u001b[0m     \u001b[38;5;124m\"\u001b[39m\u001b[38;5;124mThis kind of moviegoers pursue the feeling of controlling the development of the plot \u001b[39m\u001b[38;5;124m\"\u001b[39m\n\u001b[1;32m     76\u001b[0m     \u001b[38;5;124m\"\u001b[39m\u001b[38;5;124mand don\u001b[39m\u001b[38;5;124m'\u001b[39m\u001b[38;5;124mt like surprises.\u001b[39m\u001b[38;5;124m\"\u001b[39m\n\u001b[1;32m     77\u001b[0m )\n\u001b[1;32m     79\u001b[0m \u001b[38;5;66;03m# (1) SRL로 이벤트 추출\u001b[39;00m\n\u001b[0;32m---> 80\u001b[0m events \u001b[38;5;241m=\u001b[39m \u001b[43mextract_events\u001b[49m\u001b[43m(\u001b[49m\u001b[43mpremise\u001b[49m\u001b[43m,\u001b[49m\n\u001b[1;32m     81\u001b[0m \u001b[43m                        \u001b[49m\u001b[43mstart_time\u001b[49m\u001b[38;5;241;43m=\u001b[39;49m\u001b[38;5;124;43m\"\u001b[39;49m\u001b[38;5;124;43m2025-05-18T00:00:00\u001b[39;49m\u001b[38;5;124;43m\"\u001b[39;49m\u001b[43m,\u001b[49m\n\u001b[1;32m     82\u001b[0m \u001b[43m                        \u001b[49m\u001b[43minterval_minutes\u001b[49m\u001b[38;5;241;43m=\u001b[39;49m\u001b[38;5;241;43m1\u001b[39;49m\u001b[43m)\u001b[49m\n\u001b[1;32m     84\u001b[0m \u001b[38;5;66;03m# (2) EventGraph 생성 및 이벤트 추가\u001b[39;00m\n\u001b[1;32m     85\u001b[0m eg \u001b[38;5;241m=\u001b[39m EventGraph()\n",
      "Cell \u001b[0;32mIn[1], line 16\u001b[0m, in \u001b[0;36mextract_events\u001b[0;34m(text, start_time, interval_minutes)\u001b[0m\n\u001b[1;32m      8\u001b[0m \u001b[38;5;28;01mdef\u001b[39;00m \u001b[38;5;21mextract_events\u001b[39m(text: \u001b[38;5;28mstr\u001b[39m,\n\u001b[1;32m      9\u001b[0m                    start_time: \u001b[38;5;28mstr\u001b[39m \u001b[38;5;241m=\u001b[39m \u001b[38;5;124m\"\u001b[39m\u001b[38;5;124m2025-05-18T00:00:00\u001b[39m\u001b[38;5;124m\"\u001b[39m,\n\u001b[1;32m     10\u001b[0m                    interval_minutes: \u001b[38;5;28mint\u001b[39m \u001b[38;5;241m=\u001b[39m \u001b[38;5;241m1\u001b[39m) \u001b[38;5;241m-\u001b[39m\u001b[38;5;241m>\u001b[39m \u001b[38;5;28mlist\u001b[39m:\n\u001b[1;32m     11\u001b[0m \u001b[38;5;250m    \u001b[39m\u001b[38;5;124;03m\"\"\"\u001b[39;00m\n\u001b[1;32m     12\u001b[0m \u001b[38;5;124;03m    입력 텍스트에서 SRL로 동사(이벤트)와 ARG0/ARG1을 뽑아\u001b[39;00m\n\u001b[1;32m     13\u001b[0m \u001b[38;5;124;03m    이벤트 리스트를 반환.\u001b[39;00m\n\u001b[1;32m     14\u001b[0m \u001b[38;5;124;03m    time 필드는 start_time에서 interval_minutes 간격으로 자동 할당.\u001b[39;00m\n\u001b[1;32m     15\u001b[0m \u001b[38;5;124;03m    \"\"\"\u001b[39;00m\n\u001b[0;32m---> 16\u001b[0m     srl_out \u001b[38;5;241m=\u001b[39m \u001b[43msrl\u001b[49m\u001b[43m(\u001b[49m\u001b[43mtext\u001b[49m\u001b[43m)\u001b[49m[\u001b[38;5;241m0\u001b[39m]              \u001b[38;5;66;03m# 첫 번째 문장만 처리\u001b[39;00m\n\u001b[1;32m     17\u001b[0m     base_time \u001b[38;5;241m=\u001b[39m datetime\u001b[38;5;241m.\u001b[39mfromisoformat(start_time)\n\u001b[1;32m     18\u001b[0m     events \u001b[38;5;241m=\u001b[39m []\n",
      "File \u001b[0;32m/opt/anaconda3/envs/parser/lib/python3.10/site-packages/transformers/pipelines/text_generation.py:285\u001b[0m, in \u001b[0;36mTextGenerationPipeline.__call__\u001b[0;34m(self, text_inputs, **kwargs)\u001b[0m\n\u001b[1;32m    283\u001b[0m             \u001b[38;5;28;01melse\u001b[39;00m:\n\u001b[1;32m    284\u001b[0m                 \u001b[38;5;28;01mreturn\u001b[39;00m \u001b[38;5;28msuper\u001b[39m()\u001b[38;5;241m.\u001b[39m\u001b[38;5;21m__call__\u001b[39m(\u001b[38;5;28mlist\u001b[39m(chats), \u001b[38;5;241m*\u001b[39m\u001b[38;5;241m*\u001b[39mkwargs)\n\u001b[0;32m--> 285\u001b[0m \u001b[38;5;28;01mreturn\u001b[39;00m \u001b[38;5;28;43msuper\u001b[39;49m\u001b[43m(\u001b[49m\u001b[43m)\u001b[49m\u001b[38;5;241;43m.\u001b[39;49m\u001b[38;5;21;43m__call__\u001b[39;49m\u001b[43m(\u001b[49m\u001b[43mtext_inputs\u001b[49m\u001b[43m,\u001b[49m\u001b[43m \u001b[49m\u001b[38;5;241;43m*\u001b[39;49m\u001b[38;5;241;43m*\u001b[39;49m\u001b[43mkwargs\u001b[49m\u001b[43m)\u001b[49m\n",
      "File \u001b[0;32m/opt/anaconda3/envs/parser/lib/python3.10/site-packages/transformers/pipelines/base.py:1362\u001b[0m, in \u001b[0;36mPipeline.__call__\u001b[0;34m(self, inputs, num_workers, batch_size, *args, **kwargs)\u001b[0m\n\u001b[1;32m   1354\u001b[0m     \u001b[38;5;28;01mreturn\u001b[39;00m \u001b[38;5;28mnext\u001b[39m(\n\u001b[1;32m   1355\u001b[0m         \u001b[38;5;28miter\u001b[39m(\n\u001b[1;32m   1356\u001b[0m             \u001b[38;5;28mself\u001b[39m\u001b[38;5;241m.\u001b[39mget_iterator(\n\u001b[0;32m   (...)\u001b[0m\n\u001b[1;32m   1359\u001b[0m         )\n\u001b[1;32m   1360\u001b[0m     )\n\u001b[1;32m   1361\u001b[0m \u001b[38;5;28;01melse\u001b[39;00m:\n\u001b[0;32m-> 1362\u001b[0m     \u001b[38;5;28;01mreturn\u001b[39;00m \u001b[38;5;28;43mself\u001b[39;49m\u001b[38;5;241;43m.\u001b[39;49m\u001b[43mrun_single\u001b[49m\u001b[43m(\u001b[49m\u001b[43minputs\u001b[49m\u001b[43m,\u001b[49m\u001b[43m \u001b[49m\u001b[43mpreprocess_params\u001b[49m\u001b[43m,\u001b[49m\u001b[43m \u001b[49m\u001b[43mforward_params\u001b[49m\u001b[43m,\u001b[49m\u001b[43m \u001b[49m\u001b[43mpostprocess_params\u001b[49m\u001b[43m)\u001b[49m\n",
      "File \u001b[0;32m/opt/anaconda3/envs/parser/lib/python3.10/site-packages/transformers/pipelines/base.py:1369\u001b[0m, in \u001b[0;36mPipeline.run_single\u001b[0;34m(self, inputs, preprocess_params, forward_params, postprocess_params)\u001b[0m\n\u001b[1;32m   1367\u001b[0m \u001b[38;5;28;01mdef\u001b[39;00m \u001b[38;5;21mrun_single\u001b[39m(\u001b[38;5;28mself\u001b[39m, inputs, preprocess_params, forward_params, postprocess_params):\n\u001b[1;32m   1368\u001b[0m     model_inputs \u001b[38;5;241m=\u001b[39m \u001b[38;5;28mself\u001b[39m\u001b[38;5;241m.\u001b[39mpreprocess(inputs, \u001b[38;5;241m*\u001b[39m\u001b[38;5;241m*\u001b[39mpreprocess_params)\n\u001b[0;32m-> 1369\u001b[0m     model_outputs \u001b[38;5;241m=\u001b[39m \u001b[38;5;28;43mself\u001b[39;49m\u001b[38;5;241;43m.\u001b[39;49m\u001b[43mforward\u001b[49m\u001b[43m(\u001b[49m\u001b[43mmodel_inputs\u001b[49m\u001b[43m,\u001b[49m\u001b[43m \u001b[49m\u001b[38;5;241;43m*\u001b[39;49m\u001b[38;5;241;43m*\u001b[39;49m\u001b[43mforward_params\u001b[49m\u001b[43m)\u001b[49m\n\u001b[1;32m   1370\u001b[0m     outputs \u001b[38;5;241m=\u001b[39m \u001b[38;5;28mself\u001b[39m\u001b[38;5;241m.\u001b[39mpostprocess(model_outputs, \u001b[38;5;241m*\u001b[39m\u001b[38;5;241m*\u001b[39mpostprocess_params)\n\u001b[1;32m   1371\u001b[0m     \u001b[38;5;28;01mreturn\u001b[39;00m outputs\n",
      "File \u001b[0;32m/opt/anaconda3/envs/parser/lib/python3.10/site-packages/transformers/pipelines/base.py:1269\u001b[0m, in \u001b[0;36mPipeline.forward\u001b[0;34m(self, model_inputs, **forward_params)\u001b[0m\n\u001b[1;32m   1267\u001b[0m     \u001b[38;5;28;01mwith\u001b[39;00m inference_context():\n\u001b[1;32m   1268\u001b[0m         model_inputs \u001b[38;5;241m=\u001b[39m \u001b[38;5;28mself\u001b[39m\u001b[38;5;241m.\u001b[39m_ensure_tensor_on_device(model_inputs, device\u001b[38;5;241m=\u001b[39m\u001b[38;5;28mself\u001b[39m\u001b[38;5;241m.\u001b[39mdevice)\n\u001b[0;32m-> 1269\u001b[0m         model_outputs \u001b[38;5;241m=\u001b[39m \u001b[38;5;28;43mself\u001b[39;49m\u001b[38;5;241;43m.\u001b[39;49m\u001b[43m_forward\u001b[49m\u001b[43m(\u001b[49m\u001b[43mmodel_inputs\u001b[49m\u001b[43m,\u001b[49m\u001b[43m \u001b[49m\u001b[38;5;241;43m*\u001b[39;49m\u001b[38;5;241;43m*\u001b[39;49m\u001b[43mforward_params\u001b[49m\u001b[43m)\u001b[49m\n\u001b[1;32m   1270\u001b[0m         model_outputs \u001b[38;5;241m=\u001b[39m \u001b[38;5;28mself\u001b[39m\u001b[38;5;241m.\u001b[39m_ensure_tensor_on_device(model_outputs, device\u001b[38;5;241m=\u001b[39mtorch\u001b[38;5;241m.\u001b[39mdevice(\u001b[38;5;124m\"\u001b[39m\u001b[38;5;124mcpu\u001b[39m\u001b[38;5;124m\"\u001b[39m))\n\u001b[1;32m   1271\u001b[0m \u001b[38;5;28;01melse\u001b[39;00m:\n",
      "File \u001b[0;32m/opt/anaconda3/envs/parser/lib/python3.10/site-packages/transformers/pipelines/text_generation.py:383\u001b[0m, in \u001b[0;36mTextGenerationPipeline._forward\u001b[0;34m(self, model_inputs, **generate_kwargs)\u001b[0m\n\u001b[1;32m    380\u001b[0m \u001b[38;5;28;01mif\u001b[39;00m \u001b[38;5;124m\"\u001b[39m\u001b[38;5;124mgeneration_config\u001b[39m\u001b[38;5;124m\"\u001b[39m \u001b[38;5;129;01mnot\u001b[39;00m \u001b[38;5;129;01min\u001b[39;00m generate_kwargs:\n\u001b[1;32m    381\u001b[0m     generate_kwargs[\u001b[38;5;124m\"\u001b[39m\u001b[38;5;124mgeneration_config\u001b[39m\u001b[38;5;124m\"\u001b[39m] \u001b[38;5;241m=\u001b[39m \u001b[38;5;28mself\u001b[39m\u001b[38;5;241m.\u001b[39mgeneration_config\n\u001b[0;32m--> 383\u001b[0m generated_sequence \u001b[38;5;241m=\u001b[39m \u001b[38;5;28;43mself\u001b[39;49m\u001b[38;5;241;43m.\u001b[39;49m\u001b[43mmodel\u001b[49m\u001b[38;5;241;43m.\u001b[39;49m\u001b[43mgenerate\u001b[49m\u001b[43m(\u001b[49m\u001b[43minput_ids\u001b[49m\u001b[38;5;241;43m=\u001b[39;49m\u001b[43minput_ids\u001b[49m\u001b[43m,\u001b[49m\u001b[43m \u001b[49m\u001b[43mattention_mask\u001b[49m\u001b[38;5;241;43m=\u001b[39;49m\u001b[43mattention_mask\u001b[49m\u001b[43m,\u001b[49m\u001b[43m \u001b[49m\u001b[38;5;241;43m*\u001b[39;49m\u001b[38;5;241;43m*\u001b[39;49m\u001b[43mgenerate_kwargs\u001b[49m\u001b[43m)\u001b[49m\n\u001b[1;32m    384\u001b[0m out_b \u001b[38;5;241m=\u001b[39m generated_sequence\u001b[38;5;241m.\u001b[39mshape[\u001b[38;5;241m0\u001b[39m]\n\u001b[1;32m    385\u001b[0m \u001b[38;5;28;01mif\u001b[39;00m \u001b[38;5;28mself\u001b[39m\u001b[38;5;241m.\u001b[39mframework \u001b[38;5;241m==\u001b[39m \u001b[38;5;124m\"\u001b[39m\u001b[38;5;124mpt\u001b[39m\u001b[38;5;124m\"\u001b[39m:\n",
      "File \u001b[0;32m/opt/anaconda3/envs/parser/lib/python3.10/site-packages/torch/utils/_contextlib.py:116\u001b[0m, in \u001b[0;36mcontext_decorator.<locals>.decorate_context\u001b[0;34m(*args, **kwargs)\u001b[0m\n\u001b[1;32m    113\u001b[0m \u001b[38;5;129m@functools\u001b[39m\u001b[38;5;241m.\u001b[39mwraps(func)\n\u001b[1;32m    114\u001b[0m \u001b[38;5;28;01mdef\u001b[39;00m \u001b[38;5;21mdecorate_context\u001b[39m(\u001b[38;5;241m*\u001b[39margs, \u001b[38;5;241m*\u001b[39m\u001b[38;5;241m*\u001b[39mkwargs):\n\u001b[1;32m    115\u001b[0m     \u001b[38;5;28;01mwith\u001b[39;00m ctx_factory():\n\u001b[0;32m--> 116\u001b[0m         \u001b[38;5;28;01mreturn\u001b[39;00m \u001b[43mfunc\u001b[49m\u001b[43m(\u001b[49m\u001b[38;5;241;43m*\u001b[39;49m\u001b[43margs\u001b[49m\u001b[43m,\u001b[49m\u001b[43m \u001b[49m\u001b[38;5;241;43m*\u001b[39;49m\u001b[38;5;241;43m*\u001b[39;49m\u001b[43mkwargs\u001b[49m\u001b[43m)\u001b[49m\n",
      "File \u001b[0;32m/opt/anaconda3/envs/parser/lib/python3.10/site-packages/transformers/generation/utils.py:2012\u001b[0m, in \u001b[0;36mGenerationMixin.generate\u001b[0;34m(self, inputs, generation_config, logits_processor, stopping_criteria, prefix_allowed_tokens_fn, synced_gpus, assistant_model, streamer, negative_prompt_ids, negative_prompt_attention_mask, **kwargs)\u001b[0m\n\u001b[1;32m   2009\u001b[0m assistant_tokenizer \u001b[38;5;241m=\u001b[39m kwargs\u001b[38;5;241m.\u001b[39mpop(\u001b[38;5;124m\"\u001b[39m\u001b[38;5;124massistant_tokenizer\u001b[39m\u001b[38;5;124m\"\u001b[39m, \u001b[38;5;28;01mNone\u001b[39;00m)  \u001b[38;5;66;03m# only used for assisted generation\u001b[39;00m\n\u001b[1;32m   2011\u001b[0m generation_config, model_kwargs \u001b[38;5;241m=\u001b[39m \u001b[38;5;28mself\u001b[39m\u001b[38;5;241m.\u001b[39m_prepare_generation_config(generation_config, \u001b[38;5;241m*\u001b[39m\u001b[38;5;241m*\u001b[39mkwargs)\n\u001b[0;32m-> 2012\u001b[0m \u001b[38;5;28;43mself\u001b[39;49m\u001b[38;5;241;43m.\u001b[39;49m\u001b[43m_validate_model_kwargs\u001b[49m\u001b[43m(\u001b[49m\u001b[43mmodel_kwargs\u001b[49m\u001b[38;5;241;43m.\u001b[39;49m\u001b[43mcopy\u001b[49m\u001b[43m(\u001b[49m\u001b[43m)\u001b[49m\u001b[43m)\u001b[49m\n\u001b[1;32m   2013\u001b[0m \u001b[38;5;28mself\u001b[39m\u001b[38;5;241m.\u001b[39m_validate_assistant(assistant_model, tokenizer, assistant_tokenizer)\n\u001b[1;32m   2015\u001b[0m \u001b[38;5;66;03m# 2. Set generation parameters if not already defined\u001b[39;00m\n",
      "File \u001b[0;32m/opt/anaconda3/envs/parser/lib/python3.10/site-packages/transformers/generation/utils.py:1388\u001b[0m, in \u001b[0;36mGenerationMixin._validate_model_kwargs\u001b[0;34m(self, model_kwargs)\u001b[0m\n\u001b[1;32m   1385\u001b[0m         unused_model_args\u001b[38;5;241m.\u001b[39mappend(key)\n\u001b[1;32m   1387\u001b[0m \u001b[38;5;28;01mif\u001b[39;00m unused_model_args:\n\u001b[0;32m-> 1388\u001b[0m     \u001b[38;5;28;01mraise\u001b[39;00m \u001b[38;5;167;01mValueError\u001b[39;00m(\n\u001b[1;32m   1389\u001b[0m         \u001b[38;5;124mf\u001b[39m\u001b[38;5;124m\"\u001b[39m\u001b[38;5;124mThe following `model_kwargs` are not used by the model: \u001b[39m\u001b[38;5;132;01m{\u001b[39;00munused_model_args\u001b[38;5;132;01m}\u001b[39;00m\u001b[38;5;124m (note: typos in the\u001b[39m\u001b[38;5;124m\"\u001b[39m\n\u001b[1;32m   1390\u001b[0m         \u001b[38;5;124m\"\u001b[39m\u001b[38;5;124m generate arguments will also show up in this list)\u001b[39m\u001b[38;5;124m\"\u001b[39m\n\u001b[1;32m   1391\u001b[0m     )\n",
      "\u001b[0;31mValueError\u001b[0m: The following `model_kwargs` are not used by the model: ['cache_dir'] (note: typos in the generate arguments will also show up in this list)"
     ]
    }
   ],
   "source": [
    "import re\n",
    "import networkx as nx\n",
    "from datetime import datetime, timedelta\n",
    "from transformers import pipeline\n",
    "\n",
    "srl = pipeline(\"text-generation\", model=\"meta-llama/Llama-3.2-1B\", cache_dir = '/data3/hg_weight/hg_weight')\n",
    "\n",
    "def extract_events(text: str,\n",
    "                   start_time: str = \"2025-05-18T00:00:00\",\n",
    "                   interval_minutes: int = 1) -> list:\n",
    "    \"\"\"\n",
    "    입력 텍스트에서 SRL로 동사(이벤트)와 ARG0/ARG1을 뽑아\n",
    "    이벤트 리스트를 반환.\n",
    "    time 필드는 start_time에서 interval_minutes 간격으로 자동 할당.\n",
    "    \"\"\"\n",
    "    srl_out = srl(text)[0]              # 첫 번째 문장만 처리\n",
    "    base_time = datetime.fromisoformat(start_time)\n",
    "    events = []\n",
    "\n",
    "    for i, verb in enumerate(srl_out[\"verbs\"]):\n",
    "        desc = verb[\"description\"]\n",
    "        # [ARG0: ...], [V: ...], [ARG1: ...] 등을 regex로 추출\n",
    "        args = dict(re.findall(r\"\\[(\\w+):\\s(.*?)\\]\", desc))\n",
    "\n",
    "        ev = {\n",
    "            \"id\":   f\"e{i+1}\",\n",
    "            \"time\": (base_time + timedelta(minutes=i * interval_minutes))\n",
    "                        .isoformat(),\n",
    "            \"space\":      None,                # 필요 시 NER/문맥분석으로 채워 넣기\n",
    "            \"entities\": {\n",
    "                \"agent\":   args.get(\"ARG0\"),\n",
    "                \"action\":  args.get(\"V\"),\n",
    "                \"patient\": args.get(\"ARG1\")\n",
    "            },\n",
    "            \"causation\": None,                 # 추후 인과 추론 로직 추가 가능\n",
    "            \"motivation\": None,                # 추후 동기 추출 로직 추가 가능\n",
    "            \"text\":       desc\n",
    "        }\n",
    "        events.append(ev)\n",
    "\n",
    "    return events\n",
    "\n",
    "# 2) EventGraph 클래스: add_event 시 자동으로 temporal/causal 엣지 생성\n",
    "class EventGraph:\n",
    "    def __init__(self):\n",
    "        self.G = nx.DiGraph()\n",
    "\n",
    "    def add_event(self, ev: dict):\n",
    "        eid = ev[\"id\"]\n",
    "        # 1) 노드 추가\n",
    "        self.G.add_node(eid, **ev)\n",
    "\n",
    "        # 2) causal 엣지 (ev[\"causation\"]가 있으면)\n",
    "        parent = ev.get(\"causation\")\n",
    "        if parent and parent in self.G:\n",
    "            self.G.add_edge(parent, eid, relation=\"causal\")\n",
    "\n",
    "        # 3) temporal 엣지: 기존 노드들과 시간 비교\n",
    "        t_new = datetime.fromisoformat(ev[\"time\"])\n",
    "        for other, data in self.G.nodes(data=True):\n",
    "            if other == eid:\n",
    "                continue\n",
    "            t_other = datetime.fromisoformat(data[\"time\"])\n",
    "            if t_other < t_new:\n",
    "                self.G.add_edge(other, eid, relation=\"temporal\")\n",
    "            elif t_other > t_new:\n",
    "                self.G.add_edge(eid, other, relation=\"temporal\")\n",
    "\n",
    "\n",
    "# 3) 전체 파이프라인 실행 예제\n",
    "if __name__ == \"__main__\":\n",
    "    premise = (\n",
    "        \"Screenwriter moviegoers are those who don't mind being spoiled by spoilers \"\n",
    "        \"and even inquire about plot introductions and review all kinds of movies in advance. \"\n",
    "        \"This kind of moviegoers pursue the feeling of controlling the development of the plot \"\n",
    "        \"and don't like surprises.\"\n",
    "    )\n",
    "\n",
    "    # (1) SRL로 이벤트 추출\n",
    "    events = extract_events(premise,\n",
    "                            start_time=\"2025-05-18T00:00:00\",\n",
    "                            interval_minutes=1)\n",
    "\n",
    "    # (2) EventGraph 생성 및 이벤트 추가\n",
    "    eg = EventGraph()\n",
    "    for ev in events:\n",
    "        eg.add_event(ev)\n",
    "\n",
    "    # (3) 결과 확인\n",
    "    print(\"=== Extracted Events ===\")\n",
    "    for ev in events:\n",
    "        print(f\"{ev['id']}: {ev['text']}  [{ev['entities']}] @ {ev['time']}\")\n",
    "\n",
    "    print(\"\\n=== Graph Edges ===\")\n",
    "    for u, v, d in eg.G.edges(data=True):\n",
    "        print(f\"{u} -> {v}  (relation={d['relation']})\")\n"
   ]
  }
 ],
 "metadata": {
  "kernelspec": {
   "display_name": "parser",
   "language": "python",
   "name": "python3"
  },
  "language_info": {
   "codemirror_mode": {
    "name": "ipython",
    "version": 3
   },
   "file_extension": ".py",
   "mimetype": "text/x-python",
   "name": "python",
   "nbconvert_exporter": "python",
   "pygments_lexer": "ipython3",
   "version": "3.10.16"
  }
 },
 "nbformat": 4,
 "nbformat_minor": 5
}
