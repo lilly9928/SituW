{
 "cells": [
  {
   "cell_type": "code",
   "execution_count": 1,
   "id": "86e10660",
   "metadata": {},
   "outputs": [],
   "source": [
    "import json \n",
    "\n",
    "with open('/data3/KJE/code/WIL_DeepLearningProject_2/NS_Parser/SITUM_EMNLP/data/LogiQA2.0/logiqa2nli/DATA/QA2NLI/test_new2.json', 'r') as f :\n",
    "    data = json.load(f) "
   ]
  },
  {
   "cell_type": "code",
   "execution_count": 2,
   "id": "4e3b0a06",
   "metadata": {},
   "outputs": [
    {
     "data": {
      "text/plain": [
       "{'id': 7609,\n",
       " 'premise': 'There are two kinds of fruit candy and toffee in the jar.The kindergarten teacher put his hands into the jar, and then clenched his fists to take out a piece of candies. Then the teacher said four things: 1. The right hand is definitely not fruit candy. 2. Or the left hand is fruit candies, or fruit candies on the right hand. 3. If the left hand is fruit candies, then the right hand is not fruit candies. 4. Both the left hand and the right hand are fruit candies.',\n",
       " 'hypothesis': \"Assuming that three of the four sentences the teacher said are true and one is false, the correct option is 'Left hand fruit candy, right hand toffee'.\",\n",
       " 'label': 'entailment',\n",
       " 'type': {'Sufficient Conditional Reasoning': True,\n",
       "  'Disjunctive Reasoning': True,\n",
       "  'Conjunctive Reasoning': True}}"
      ]
     },
     "execution_count": 2,
     "metadata": {},
     "output_type": "execute_result"
    }
   ],
   "source": [
    "data[0]"
   ]
  },
  {
   "cell_type": "code",
   "execution_count": 3,
   "id": "0e6cc621",
   "metadata": {},
   "outputs": [],
   "source": [
    "import re \n",
    "\n",
    "def split_enumerated_premise(text: str):\n",
    "    # 기본 문장들 분리\n",
    "    base_sentences = []\n",
    "    \n",
    "    # enumerate 문장들 분리\n",
    "    parts = re.split(r'(?=\\d+\\.\\s)', text)  # 숫자+점+공백 기준 split, 번호는 유지\n",
    "    final_sentences = []\n",
    "\n",
    "    for part in parts:\n",
    "        part = part.strip()\n",
    "        if not part:\n",
    "            continue\n",
    "        # 첫 문장이면 일반 문장으로 처리\n",
    "        if not re.match(r'^\\d+\\.', part):\n",
    "            # base 문장 더 잘게 쪼개기\n",
    "            base_sentences += [s.strip() + '.' for s in part.split('.') if s.strip()]\n",
    "        else:\n",
    "            final_sentences.append(part if part.endswith('.') else part + '.')\n",
    "\n",
    "    return base_sentences + final_sentences"
   ]
  },
  {
   "cell_type": "code",
   "execution_count": 13,
   "id": "9c6d8b20",
   "metadata": {},
   "outputs": [],
   "source": [
    "import random\n",
    "from nltk.tokenize import sent_tokenize\n",
    "\n",
    "new_data = []\n",
    "for d in data:\n",
    "    premise_list = split_enumerated_premise(d['premise'])\n",
    "    shuffled_sentences = premise_list[:]\n",
    "    random.shuffle(shuffled_sentences)\n",
    "\n",
    "    shuffled_clean_result = {\n",
    "    \"id\": d['id'],\n",
    "    \"premise\": \"\".join(shuffled_sentences),\n",
    "    \"hypothesis\": d['hypothesis'],\n",
    "    \"label\": d['label']\n",
    "    }\n",
    "\n",
    "    new_data.append(shuffled_clean_result)\n"
   ]
  },
  {
   "cell_type": "code",
   "execution_count": 14,
   "id": "22c08c46",
   "metadata": {},
   "outputs": [],
   "source": [
    "\n",
    "with open('/data3/KJE/code/WIL_DeepLearningProject_2/NS_Parser/SITUM_EMNLP/data/LogiQA2.0/logiqa2nli/DATA/QA2NLI/test_new_suffle_5.json', 'w') as f :\n",
    "    json.dump(new_data, f, indent=4, ensure_ascii=False)"
   ]
  },
  {
   "cell_type": "code",
   "execution_count": 30,
   "id": "296ca5c8",
   "metadata": {},
   "outputs": [
    {
     "data": {
      "text/plain": [
       "3240"
      ]
     },
     "execution_count": 30,
     "metadata": {},
     "output_type": "execute_result"
    }
   ],
   "source": [
    "len(new_data)"
   ]
  }
 ],
 "metadata": {
  "kernelspec": {
   "display_name": "parser",
   "language": "python",
   "name": "python3"
  },
  "language_info": {
   "codemirror_mode": {
    "name": "ipython",
    "version": 3
   },
   "file_extension": ".py",
   "mimetype": "text/x-python",
   "name": "python",
   "nbconvert_exporter": "python",
   "pygments_lexer": "ipython3",
   "version": "3.10.16"
  }
 },
 "nbformat": 4,
 "nbformat_minor": 5
}
