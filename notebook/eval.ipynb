{
 "cells": [
  {
   "cell_type": "code",
   "execution_count": 158,
   "id": "56c56aa0",
   "metadata": {},
   "outputs": [],
   "source": [
    "import json\n",
    "\n",
    "with open('/data3/KJE/code/WIL_DeepLearningProject_2/NS_Parser/EMNLP_exp/Logic-LLM_reasong/results/CoT_ProntoQA_none_ours_dev_non_zero_gpt-3.5-turbo.json', 'r') as f :\n",
    "    data = json.load(f) \n",
    "\n",
    "\n",
    "with open('/data3/KJE/code/WIL_DeepLearningProject_2/NS_Parser/EMNLP_exp/Logic-LLM_reasong/results/CoT_ProntoQA_none_dev_non_zero_gpt-3.5-turbo.json', 'r') as f :\n",
    "    o_data = json.load(f) \n",
    "\n"
   ]
  },
  {
   "cell_type": "code",
   "execution_count": 159,
   "id": "6206a78a",
   "metadata": {},
   "outputs": [
    {
     "name": "stdout",
     "output_type": "stream",
     "text": [
      "dict_keys(['id', 'context', 'question', 'options', 'answer', 'explanation', 'full_reasoning', 'predicted_reasoning', 'predicted_answer', 'parsed', 'is_hit', 'is_correct', 'acc_acc', 'hit_ratio']) B B 500\n",
      "dict_keys(['id', 'context', 'question', 'options', 'answer', 'explanation', 'full_reasoning', 'predicted_reasoning', 'predicted_answer', 'parsed', 'is_hit', 'is_correct', 'acc_acc', 'hit_ratio']) B B 500\n"
     ]
    }
   ],
   "source": [
    "print(data[0].keys() ,data[0]['predicted_answer'],data[0]['answer'],len(data))\n",
    "print(o_data[0].keys() ,o_data[0]['predicted_answer'],o_data[0]['answer'],len(data))"
   ]
  },
  {
   "cell_type": "code",
   "execution_count": 160,
   "id": "d0b41134",
   "metadata": {},
   "outputs": [
    {
     "data": {
      "text/plain": [
       "{'id': 'ProntoQA_2',\n",
       " 'context': 'Every tumpus is not angry. Tumpuses are rompuses. Every numpus is not bright. Rompuses are not luminous. Rompuses are yumpuses. Yumpuses are transparent. Yumpuses are zumpuses. Each zumpus is not bitter. Zumpuses are impuses. Impuses are red. Each impus is a dumpus. Every dumpus is happy. Each dumpus is a vumpus. Vumpuses are bright. Every vumpus is a jompus. Jompuses are large. Each jompus is a wumpus. Stella is a yumpus.',\n",
       " 'question': 'Is the following statement true or false? Stella is bright.',\n",
       " 'options': ['A) True', 'B) False'],\n",
       " 'answer': 'A',\n",
       " 'explanation': ['Stella is a yumpus.',\n",
       "  'Yumpuses are zumpuses.',\n",
       "  'Stella is a zumpus.',\n",
       "  'Zumpuses are impuses.',\n",
       "  'Stella is an impus.',\n",
       "  'Each impus is a dumpus.',\n",
       "  'Stella is a dumpus.',\n",
       "  'Each dumpus is a vumpus.',\n",
       "  'Stella is a vumpus.',\n",
       "  'Vumpuses are bright.',\n",
       "  'Stella is bright.'],\n",
       " 'full_reasoning': 'Stella is a yumpus. Yumpuses are zumpuses. So Stella is a zumpus. Each zumpus is an impus. So Stella is an impus. Each impus is a dumpus. So Stella is a dumpus. Every dumpus is a vumpus. So Stella is a vumpus. Vumpuses are bright. So Stella is bright.\\n\\nThe correct option is: A',\n",
       " 'predicted_reasoning': 'Stella is a yumpus. Yumpuses are zumpuses. So Stella is a zumpus. Each zumpus is an impus. So Stella is an impus. Each impus is a dumpus. So Stella is a dumpus. Every dumpus is a vumpus. So Stella is a vumpus. Vumpuses are bright. So Stella is bright.',\n",
       " 'predicted_answer': 'A',\n",
       " 'parsed': 'A',\n",
       " 'is_hit': True,\n",
       " 'is_correct': True,\n",
       " 'acc_acc': 100.0,\n",
       " 'hit_ratio': 100.0}"
      ]
     },
     "execution_count": 160,
     "metadata": {},
     "output_type": "execute_result"
    }
   ],
   "source": [
    "data[1]"
   ]
  },
  {
   "cell_type": "code",
   "execution_count": 162,
   "id": "01fde5ca",
   "metadata": {},
   "outputs": [
    {
     "name": "stdout",
     "output_type": "stream",
     "text": [
      "0.87\n"
     ]
    }
   ],
   "source": [
    "##FOLIO\n",
    "\n",
    "correct = 0 \n",
    "option =['a','b','c']\n",
    "ours_correct = []\n",
    "ours_fail = []\n",
    "for d in o_data:\n",
    "    predict = d['predicted_answer'].lower()\n",
    "    answer =d['answer'].lower()\n",
    "    if predict not in option:\n",
    "        if answer =='a':\n",
    "            answer = 'true'\n",
    "        elif answer=='b':\n",
    "            answer = 'false'\n",
    "        else:\n",
    "             answer = 'uncertain'\n",
    "        # print(predict)\n",
    "        # continue\n",
    "    if answer in predict:\n",
    "        correct += 1\n",
    "        ours_correct.append(d)\n",
    "    else:\n",
    "        ours_fail.append(d)\n",
    "\n",
    "print(correct/len(data))\n",
    "    "
   ]
  },
  {
   "cell_type": "code",
   "execution_count": 127,
   "id": "216b2ab9",
   "metadata": {},
   "outputs": [
    {
     "data": {
      "text/plain": [
       "{'id': 'FOLIO_dev_16',\n",
       " 'context': 'All rabbits are cute. Some turtles exist. An animal is either a rabbit or a squirrel. If something is skittish, then it is not still. All squirrels are skittish. Rock is still.',\n",
       " 'question': 'Based on the above information, is the following statement true, false, or uncertain? Rock is a turtle.',\n",
       " 'options': ['A) True', 'B) False', 'C) Uncertain'],\n",
       " 'answer': 'C',\n",
       " 'full_reasoning': '1. All rabbits are cute. (True)\\n2. Some turtles exist. (True)\\n3. An animal is either a rabbit or a squirrel. (True)\\n4. If something is skittish, then it is not still. (True)\\n5. All squirrels are skittish. (True)\\n6. Rock is still. (True)\\n\\nBased on the information given, we can conclude that the statement \"Rock is a turtle\" is false. This is because the information provided does not support the conclusion that rock is a turtle.',\n",
       " 'predicted_reasoning': '1. All rabbits are cute. (True)\\n2. Some turtles exist. (True)\\n3. An animal is either a rabbit or a squirrel. (True)\\n4. If something is skittish, then it is not still. (True)\\n5. All squirrels are skittish. (True)\\n6. Rock is still. (True)\\n\\nBased on the information given, we can conclude that the statement \"Rock is a turtle\" is false. This is because the information provided does not support the conclusion that rock is a turtle.',\n",
       " 'predicted_answer': 'False',\n",
       " 'parsed': 'B',\n",
       " 'is_hit': True,\n",
       " 'is_correct': False,\n",
       " 'acc_acc': 64.71,\n",
       " 'hit_ratio': 100.0}"
      ]
     },
     "execution_count": 127,
     "metadata": {},
     "output_type": "execute_result"
    }
   ],
   "source": [
    "ours_fail[5]"
   ]
  },
  {
   "cell_type": "code",
   "execution_count": null,
   "id": "5cbf4cf7",
   "metadata": {},
   "outputs": [
    {
     "name": "stdout",
     "output_type": "stream",
     "text": [
      "0.275\n"
     ]
    }
   ],
   "source": [
    "correct = 0 \n",
    "ours_correct = []\n",
    "ours_fail = []\n",
    "for d in data:\n",
    "    predict = d['predicted_answer'].lower()\n",
    "    if d['answer']=='A':\n",
    "        answer ='true'\n",
    "    else:\n",
    "        answer='false'\n",
    "\n",
    "    if answer in predict:\n",
    "        correct += 1\n",
    "        ours_correct.append(d)\n",
    "    else:\n",
    "        ours_fail.append(d)\n",
    "\n",
    "print(correct/len(data))\n",
    "    "
   ]
  },
  {
   "cell_type": "code",
   "execution_count": 26,
   "id": "131ac116",
   "metadata": {},
   "outputs": [
    {
     "name": "stdout",
     "output_type": "stream",
     "text": [
      "Social phobia is an important subtype of anxiety disorder, its main symptom is the fear of being watched, such as fear of speaking in public, and even afraid to go out when the symptoms are serious. Shyness is a common personality trait, which is not pathological in itself. However, the vast majority of patients with social phobia will be significantly relieved after treatment, and psychotherapy should be the first choice for patients with mild symptoms; if patients are unable or unwilling to receive psychotherapy because of busy work and other reasons, drug treatment can be the first choice, but the combination of drug therapy and psychotherapy is the most effective way to treat social phobia. In addition, most people with social phobias start in adolescence, so prevention is very important.location is in the jar.\n",
      "protagonist is the kindergarten teacher.\n",
      "cause is the desire to take out candies.\n",
      "intention is to distinguish between fruit candies and non-fruit candies.\n",
      "intention is to retrieve candies for the children.\n",
      "intention is to determine the location of fruit candies.\n",
      "time is in adolescence.\n",
      "protagonist is most people with social phobias.\n",
      "protagonist is patients with social phobia\n",
      "intention is the purpose is to outline treatment options for social phobia.\n",
      "intention is prevention of social phobias.location is in the jar.\n",
      "protagonist is the kindergarten teacher.\n",
      "cause is the desire to take out candies.\n",
      "intention is to distinguish between fruit candies and non-fruit candies.\n",
      "intention is to retrieve candies for the children.\n",
      "intention is to determine the location of fruit candies.\n",
      "time is in adolescence.\n",
      "protagonist is most people with social phobias.\n",
      "protagonist is patients with social phobia\n",
      "intention is the purpose is to outline treatment options for social phobia.\n",
      "intention is prevention of social phobias.location is in the jar.\n",
      "protagonist is the kindergarten teacher.\n",
      "cause is the desire to take out candies.\n",
      "intention is to distinguish between fruit candies and non-fruit candies.\n",
      "intention is to retrieve candies for the children.\n",
      "intention is to determine the location of fruit candies.\n",
      "time is in adolescence.\n",
      "protagonist is most people with social phobias.\n",
      "protagonist is patients with social phobia\n",
      "intention is the purpose is to outline treatment options for social phobia.\n",
      "intention is prevention of social phobias.\n",
      "To determine if the conclusion \"Combination therapy is the most effective in patients with mild symptoms\" is true based on the provided context, let's analyze the information step by step.\n",
      "\n",
      "1. **Understanding Social Phobia**: The context describes social phobia as a subtype of anxiety disorder characterized by a fear of being watched, which can lead to significant distress and avoidance behaviors.\n",
      "\n",
      "2. **Treatment Options**: The passage states that psychotherapy should be the first choice for patients with mild symptoms of social phobia. It also mentions that if patients are unable or unwilling to receive psychotherapy, drug treatment can be the first choice.\n",
      "\n",
      "3. **Combination Therapy**: The passage emphasizes that the combination of drug therapy and psychotherapy is the most effective way to treat social phobia in general, but it does not specifically state that this combination is the most effective for patients with mild symptoms.\n",
      "\n",
      "4. **Focus on Mild Symptoms**: The passage indicates that psychotherapy is the first choice for mild symptoms, which implies that for mild cases, psychotherapy alone may be sufficient and preferred over combination therapy.\n",
      "\n",
      "5. **Conclusion Evaluation**: The conclusion states that \"Combination therapy is the most effective in patients with mild symptoms.\" However, the context does not support this claim for mild symptoms specifically. Instead, it suggests that psychotherapy alone is the first choice for mild symptoms, and combination therapy is more generally effective but not necessarily the first line for mild cases.\n",
      "\n",
      "Based on this analysis, the conclusion is **not true** according to the passage. The passage does not support the idea that combination therapy is the most effective specifically for patients with mild symptoms; rather, it suggests that psychotherapy is the preferred initial treatment for those cases.\n",
      "The conclusion: \"Combination therapy is the most effective in patients with mild symptoms\" is **False**.\n",
      "entailment\n"
     ]
    }
   ],
   "source": [
    "idx = 0\n",
    "print(ours_fail[idx]['original_context'])\n",
    "print(ours_fail[idx]['reasoning'])\n",
    "print(ours_fail[idx]['predicted_answer'])\n",
    "print(ours_fail[idx]['answer'])\n"
   ]
  }
 ],
 "metadata": {
  "kernelspec": {
   "display_name": "parser",
   "language": "python",
   "name": "python3"
  },
  "language_info": {
   "codemirror_mode": {
    "name": "ipython",
    "version": 3
   },
   "file_extension": ".py",
   "mimetype": "text/x-python",
   "name": "python",
   "nbconvert_exporter": "python",
   "pygments_lexer": "ipython3",
   "version": "3.10.16"
  }
 },
 "nbformat": 4,
 "nbformat_minor": 5
}
